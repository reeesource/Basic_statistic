{
 "cells": [
  {
   "cell_type": "markdown",
   "id": "bbe8e41e",
   "metadata": {},
   "source": [
    "# CH1. 탐색적 데이터 분석"
   ]
  },
  {
   "cell_type": "markdown",
   "id": "07df7d83",
   "metadata": {},
   "source": [
    "## 1.1 정형화된 데이터의 요소\n",
    "\n",
    "###### 정형 데이터의 가장 기본이 되는 종류: 수치형 데이터, 범주형 데이터\n",
    "(1) 수치형 데이터(Numeric)\n",
    " - 연속형(Continuous), 이산형(Discrete)\n",
    " \n",
    "(2) 범주형 데이터(categorical): 범위가 정해진 값\n",
    " - 이진 데이터(binary, 범주형 데이터 중에서도 두 값중 하나를 갖는 특수한 경우. ex) 0/1, 예/아니오)\n",
    " - 순서형 (ordial, ex.평점)"
   ]
  },
  {
   "cell_type": "markdown",
   "id": "faeff79a",
   "metadata": {},
   "source": [
    "## 1.2 테이블 데이터\n",
    "\n",
    "* 엑셀 스프레드시트나 데이터베이스의 테이블과 같은 rectagular data\n",
    "\n",
    "###### 용어정리\n",
    "- Data frame: 통계와 ML 모델에서 가장 기본이 되는 테이블 형태의 데이터 구조\n",
    "- feature: 일반적으로 테이블의 각 열이 하나의 피처를 의미 (유의어: 특징, 속성, 입력, 예측변수(predictor), 변수)\n",
    "- outcome(결과): 데이터 과학 프로젝트의 목표는 대부분 어떤 결과를 예측하는 데 있다. 실험이나 연구에서 결과를 예측하기 위해 피처를 사용ㅇ한다. (유의어: 종속변수, 응답, 목표(target), 출력)\n",
    "- record: 일반적으로 테이블의 각 행(row)은 하나의 레코드를 의미 (유의어: 기록값, 사건(case), 사례, 예제, 관측값, 패턴, 샘플)\n",
    "\n",
    "### 1.2.1 데이터 프레임과 인덱스\n",
    "* 인덱스를 통해 쿼리 성능의 향상 가능\n",
    "- python: 기본 테이블형 데이터 구조를 위해 DataFrame 객체를 제공하며, DataFrame에서 각 행마다 순차적으로 정수인 값을 붙여 인덱스로 사용. +pandas는 다중/계층적 인덱스 지원\n",
    "- r: data.frame 객체 제공하며, 내부적으로 행 번호에 따라 정수로 된 인덱스를 갖는다. 다만, 다중 인덱스를 지원하지 않기에 이를 보완하기 위해 data.table과 dplyr이 현재 널리 사용된다. 모두 다중인덱스를 지원한다.\n",
    "\n",
    "### 1.2.2 테이블 형식이 아닌 데이터 구조\n",
    "- 시계열 데이터\n",
    "- 그래프(혹은 네트워크) 데이터\n",
    "- 공간 데이터 등.."
   ]
  },
  {
   "cell_type": "markdown",
   "id": "9212dec9",
   "metadata": {},
   "source": [
    "## 1.3 위치 추정\n",
    "* 데이터가 주어졌을 때, 데이터를 살펴보는 가장 기초적인 단계는 각 피처(변수)의 '대푯값(typical value)'를 구하는 것\n",
    "\n",
    "###### 용어정리\n",
    "- 평균(mean): 모든 값의 총합을 갯수로 나눈 값 (유의어: average)\n",
    "- 가중평균(weighted mean): 가중치를 곱한 값의 총합을 가중치의 총합으로 나눈 값 (유의어: 가중평균(weighted average)\n",
    "- 중간값(median): 데이터에서 가장 가운데 위치한 값 (유의어: 50번째 백분위수(percentile)\n",
    "- 백분위수(percentile): 전체 데이터의 P%를 아래에 두는 값 (유의어: 분위수(quantile))\n",
    "- 가중 중간값(weighted median): 데이터를 정렬한 후, 각 가중치 값을 위에서부터 더할 때, 총합의 중간이 위치하는 데이터 값\n",
    "- 절사평균(trimmed mean): 정해진 갯수의 극단값(extreme value)을 제외한 나머지 값들의 평균 (유의어: 절단평균(truncated mean))\n",
    "- 로버스트하다(robust): 극단값들에 민감하지 않다는 것을 의미 (유의어: 저항성이 있다(resistant))\n",
    "- 특잇값(outlier): 대부분의 값과 매우 다른 데이터 값 (유의어: 극단값)\n",
    "\n",
    "### 1.3.1 평균\n",
    "- 평균(x bar)\n",
    "- 절사평균: 극단값의 영향을 제거. 평균과 중앙값의 절충안. 데이터의 특잇값들에 로버스트하지만 위치 추정을 위해 더 많은 데이터를 사용함.\n",
    "- 가중평균: 1. 어떤 값들이 본래 다른값에 비해 큰 변화량을 가질 때. 2. 데이터 수집시 정보의 비대칭성을 보정하기 위해\n",
    "\n",
    "### 1.3.2 중간값과 로버스트\n",
    "- 중간값: 특잇값의 영향을 받지 않으므로 로버스트한 추정 방법\n",
    "- 가중 중간값: 마찬가지로 특잇값에 로버스트\n",
    "- 특이값(극단값): 데이터 집합에서 다른 값들과 매우 멀리 떨어져 있는 값. (관습적으로 사용하는 특잇값의 정의가 있지만, 정확한 정의는 다소 주관적일 수 있다.)\n",
    "\n"
   ]
  },
  {
   "cell_type": "markdown",
   "id": "a3d2738c",
   "metadata": {},
   "source": [
    "## 1.3.3 예제: 인구에 다른 살인 비율의 위치 추정"
   ]
  },
  {
   "cell_type": "code",
   "execution_count": 1,
   "id": "56033b13",
   "metadata": {},
   "outputs": [],
   "source": [
    "import numpy as np\n",
    "import pandas as pd\n",
    "\n",
    "from scipy import stats"
   ]
  },
  {
   "cell_type": "code",
   "execution_count": 5,
   "id": "07ba8e3f",
   "metadata": {},
   "outputs": [
    {
     "data": {
      "text/html": [
       "<div>\n",
       "<style scoped>\n",
       "    .dataframe tbody tr th:only-of-type {\n",
       "        vertical-align: middle;\n",
       "    }\n",
       "\n",
       "    .dataframe tbody tr th {\n",
       "        vertical-align: top;\n",
       "    }\n",
       "\n",
       "    .dataframe thead th {\n",
       "        text-align: right;\n",
       "    }\n",
       "</style>\n",
       "<table border=\"1\" class=\"dataframe\">\n",
       "  <thead>\n",
       "    <tr style=\"text-align: right;\">\n",
       "      <th></th>\n",
       "      <th>State</th>\n",
       "      <th>Population</th>\n",
       "      <th>Murder.Rate</th>\n",
       "      <th>Abbreviation</th>\n",
       "    </tr>\n",
       "  </thead>\n",
       "  <tbody>\n",
       "    <tr>\n",
       "      <th>0</th>\n",
       "      <td>Alabama</td>\n",
       "      <td>4779736</td>\n",
       "      <td>5.7</td>\n",
       "      <td>AL</td>\n",
       "    </tr>\n",
       "    <tr>\n",
       "      <th>1</th>\n",
       "      <td>Alaska</td>\n",
       "      <td>710231</td>\n",
       "      <td>5.6</td>\n",
       "      <td>AK</td>\n",
       "    </tr>\n",
       "    <tr>\n",
       "      <th>2</th>\n",
       "      <td>Arizona</td>\n",
       "      <td>6392017</td>\n",
       "      <td>4.7</td>\n",
       "      <td>AZ</td>\n",
       "    </tr>\n",
       "    <tr>\n",
       "      <th>3</th>\n",
       "      <td>Arkansas</td>\n",
       "      <td>2915918</td>\n",
       "      <td>5.6</td>\n",
       "      <td>AR</td>\n",
       "    </tr>\n",
       "    <tr>\n",
       "      <th>4</th>\n",
       "      <td>California</td>\n",
       "      <td>37253956</td>\n",
       "      <td>4.4</td>\n",
       "      <td>CA</td>\n",
       "    </tr>\n",
       "    <tr>\n",
       "      <th>5</th>\n",
       "      <td>Colorado</td>\n",
       "      <td>5029196</td>\n",
       "      <td>2.8</td>\n",
       "      <td>CO</td>\n",
       "    </tr>\n",
       "    <tr>\n",
       "      <th>6</th>\n",
       "      <td>Connecticut</td>\n",
       "      <td>3574097</td>\n",
       "      <td>2.4</td>\n",
       "      <td>CT</td>\n",
       "    </tr>\n",
       "    <tr>\n",
       "      <th>7</th>\n",
       "      <td>Delaware</td>\n",
       "      <td>897934</td>\n",
       "      <td>5.8</td>\n",
       "      <td>DE</td>\n",
       "    </tr>\n",
       "    <tr>\n",
       "      <th>8</th>\n",
       "      <td>Florida</td>\n",
       "      <td>18801310</td>\n",
       "      <td>5.8</td>\n",
       "      <td>FL</td>\n",
       "    </tr>\n",
       "    <tr>\n",
       "      <th>9</th>\n",
       "      <td>Georgia</td>\n",
       "      <td>9687653</td>\n",
       "      <td>5.7</td>\n",
       "      <td>GA</td>\n",
       "    </tr>\n",
       "    <tr>\n",
       "      <th>10</th>\n",
       "      <td>Hawaii</td>\n",
       "      <td>1360301</td>\n",
       "      <td>1.8</td>\n",
       "      <td>HI</td>\n",
       "    </tr>\n",
       "    <tr>\n",
       "      <th>11</th>\n",
       "      <td>Idaho</td>\n",
       "      <td>1567582</td>\n",
       "      <td>2.0</td>\n",
       "      <td>ID</td>\n",
       "    </tr>\n",
       "    <tr>\n",
       "      <th>12</th>\n",
       "      <td>Illinois</td>\n",
       "      <td>12830632</td>\n",
       "      <td>5.3</td>\n",
       "      <td>IL</td>\n",
       "    </tr>\n",
       "    <tr>\n",
       "      <th>13</th>\n",
       "      <td>Indiana</td>\n",
       "      <td>6483802</td>\n",
       "      <td>5.0</td>\n",
       "      <td>IN</td>\n",
       "    </tr>\n",
       "    <tr>\n",
       "      <th>14</th>\n",
       "      <td>Iowa</td>\n",
       "      <td>3046355</td>\n",
       "      <td>1.9</td>\n",
       "      <td>IA</td>\n",
       "    </tr>\n",
       "    <tr>\n",
       "      <th>15</th>\n",
       "      <td>Kansas</td>\n",
       "      <td>2853118</td>\n",
       "      <td>3.1</td>\n",
       "      <td>KS</td>\n",
       "    </tr>\n",
       "    <tr>\n",
       "      <th>16</th>\n",
       "      <td>Kentucky</td>\n",
       "      <td>4339367</td>\n",
       "      <td>3.6</td>\n",
       "      <td>KY</td>\n",
       "    </tr>\n",
       "    <tr>\n",
       "      <th>17</th>\n",
       "      <td>Louisiana</td>\n",
       "      <td>4533372</td>\n",
       "      <td>10.3</td>\n",
       "      <td>LA</td>\n",
       "    </tr>\n",
       "    <tr>\n",
       "      <th>18</th>\n",
       "      <td>Maine</td>\n",
       "      <td>1328361</td>\n",
       "      <td>1.6</td>\n",
       "      <td>ME</td>\n",
       "    </tr>\n",
       "    <tr>\n",
       "      <th>19</th>\n",
       "      <td>Maryland</td>\n",
       "      <td>5773552</td>\n",
       "      <td>6.1</td>\n",
       "      <td>MD</td>\n",
       "    </tr>\n",
       "    <tr>\n",
       "      <th>20</th>\n",
       "      <td>Massachusetts</td>\n",
       "      <td>6547629</td>\n",
       "      <td>2.0</td>\n",
       "      <td>MA</td>\n",
       "    </tr>\n",
       "    <tr>\n",
       "      <th>21</th>\n",
       "      <td>Michigan</td>\n",
       "      <td>9883640</td>\n",
       "      <td>5.4</td>\n",
       "      <td>MI</td>\n",
       "    </tr>\n",
       "    <tr>\n",
       "      <th>22</th>\n",
       "      <td>Minnesota</td>\n",
       "      <td>5303925</td>\n",
       "      <td>1.6</td>\n",
       "      <td>MN</td>\n",
       "    </tr>\n",
       "    <tr>\n",
       "      <th>23</th>\n",
       "      <td>Mississippi</td>\n",
       "      <td>2967297</td>\n",
       "      <td>8.6</td>\n",
       "      <td>MS</td>\n",
       "    </tr>\n",
       "    <tr>\n",
       "      <th>24</th>\n",
       "      <td>Missouri</td>\n",
       "      <td>5988927</td>\n",
       "      <td>6.6</td>\n",
       "      <td>MO</td>\n",
       "    </tr>\n",
       "    <tr>\n",
       "      <th>25</th>\n",
       "      <td>Montana</td>\n",
       "      <td>989415</td>\n",
       "      <td>3.6</td>\n",
       "      <td>MT</td>\n",
       "    </tr>\n",
       "    <tr>\n",
       "      <th>26</th>\n",
       "      <td>Nebraska</td>\n",
       "      <td>1826341</td>\n",
       "      <td>2.9</td>\n",
       "      <td>NE</td>\n",
       "    </tr>\n",
       "    <tr>\n",
       "      <th>27</th>\n",
       "      <td>Nevada</td>\n",
       "      <td>2700551</td>\n",
       "      <td>6.0</td>\n",
       "      <td>NV</td>\n",
       "    </tr>\n",
       "    <tr>\n",
       "      <th>28</th>\n",
       "      <td>New Hampshire</td>\n",
       "      <td>1316470</td>\n",
       "      <td>0.9</td>\n",
       "      <td>NH</td>\n",
       "    </tr>\n",
       "    <tr>\n",
       "      <th>29</th>\n",
       "      <td>New Jersey</td>\n",
       "      <td>8791894</td>\n",
       "      <td>3.9</td>\n",
       "      <td>NJ</td>\n",
       "    </tr>\n",
       "    <tr>\n",
       "      <th>30</th>\n",
       "      <td>New Mexico</td>\n",
       "      <td>2059179</td>\n",
       "      <td>4.8</td>\n",
       "      <td>NM</td>\n",
       "    </tr>\n",
       "    <tr>\n",
       "      <th>31</th>\n",
       "      <td>New York</td>\n",
       "      <td>19378102</td>\n",
       "      <td>3.1</td>\n",
       "      <td>NY</td>\n",
       "    </tr>\n",
       "    <tr>\n",
       "      <th>32</th>\n",
       "      <td>North Carolina</td>\n",
       "      <td>9535483</td>\n",
       "      <td>5.1</td>\n",
       "      <td>NC</td>\n",
       "    </tr>\n",
       "    <tr>\n",
       "      <th>33</th>\n",
       "      <td>North Dakota</td>\n",
       "      <td>672591</td>\n",
       "      <td>3.0</td>\n",
       "      <td>ND</td>\n",
       "    </tr>\n",
       "    <tr>\n",
       "      <th>34</th>\n",
       "      <td>Ohio</td>\n",
       "      <td>11536504</td>\n",
       "      <td>4.0</td>\n",
       "      <td>OH</td>\n",
       "    </tr>\n",
       "    <tr>\n",
       "      <th>35</th>\n",
       "      <td>Oklahoma</td>\n",
       "      <td>3751351</td>\n",
       "      <td>4.5</td>\n",
       "      <td>OK</td>\n",
       "    </tr>\n",
       "    <tr>\n",
       "      <th>36</th>\n",
       "      <td>Oregon</td>\n",
       "      <td>3831074</td>\n",
       "      <td>2.0</td>\n",
       "      <td>OR</td>\n",
       "    </tr>\n",
       "    <tr>\n",
       "      <th>37</th>\n",
       "      <td>Pennsylvania</td>\n",
       "      <td>12702379</td>\n",
       "      <td>4.8</td>\n",
       "      <td>PA</td>\n",
       "    </tr>\n",
       "    <tr>\n",
       "      <th>38</th>\n",
       "      <td>Rhode Island</td>\n",
       "      <td>1052567</td>\n",
       "      <td>2.4</td>\n",
       "      <td>RI</td>\n",
       "    </tr>\n",
       "    <tr>\n",
       "      <th>39</th>\n",
       "      <td>South Carolina</td>\n",
       "      <td>4625364</td>\n",
       "      <td>6.4</td>\n",
       "      <td>SC</td>\n",
       "    </tr>\n",
       "    <tr>\n",
       "      <th>40</th>\n",
       "      <td>South Dakota</td>\n",
       "      <td>814180</td>\n",
       "      <td>2.3</td>\n",
       "      <td>SD</td>\n",
       "    </tr>\n",
       "    <tr>\n",
       "      <th>41</th>\n",
       "      <td>Tennessee</td>\n",
       "      <td>6346105</td>\n",
       "      <td>5.7</td>\n",
       "      <td>TN</td>\n",
       "    </tr>\n",
       "    <tr>\n",
       "      <th>42</th>\n",
       "      <td>Texas</td>\n",
       "      <td>25145561</td>\n",
       "      <td>4.4</td>\n",
       "      <td>TX</td>\n",
       "    </tr>\n",
       "    <tr>\n",
       "      <th>43</th>\n",
       "      <td>Utah</td>\n",
       "      <td>2763885</td>\n",
       "      <td>2.3</td>\n",
       "      <td>UT</td>\n",
       "    </tr>\n",
       "    <tr>\n",
       "      <th>44</th>\n",
       "      <td>Vermont</td>\n",
       "      <td>625741</td>\n",
       "      <td>1.6</td>\n",
       "      <td>VT</td>\n",
       "    </tr>\n",
       "    <tr>\n",
       "      <th>45</th>\n",
       "      <td>Virginia</td>\n",
       "      <td>8001024</td>\n",
       "      <td>4.1</td>\n",
       "      <td>VA</td>\n",
       "    </tr>\n",
       "    <tr>\n",
       "      <th>46</th>\n",
       "      <td>Washington</td>\n",
       "      <td>6724540</td>\n",
       "      <td>2.5</td>\n",
       "      <td>WA</td>\n",
       "    </tr>\n",
       "    <tr>\n",
       "      <th>47</th>\n",
       "      <td>West Virginia</td>\n",
       "      <td>1852994</td>\n",
       "      <td>4.0</td>\n",
       "      <td>WV</td>\n",
       "    </tr>\n",
       "    <tr>\n",
       "      <th>48</th>\n",
       "      <td>Wisconsin</td>\n",
       "      <td>5686986</td>\n",
       "      <td>2.9</td>\n",
       "      <td>WI</td>\n",
       "    </tr>\n",
       "    <tr>\n",
       "      <th>49</th>\n",
       "      <td>Wyoming</td>\n",
       "      <td>563626</td>\n",
       "      <td>2.7</td>\n",
       "      <td>WY</td>\n",
       "    </tr>\n",
       "  </tbody>\n",
       "</table>\n",
       "</div>"
      ],
      "text/plain": [
       "             State  Population  Murder.Rate Abbreviation\n",
       "0          Alabama     4779736          5.7           AL\n",
       "1           Alaska      710231          5.6           AK\n",
       "2          Arizona     6392017          4.7           AZ\n",
       "3         Arkansas     2915918          5.6           AR\n",
       "4       California    37253956          4.4           CA\n",
       "5         Colorado     5029196          2.8           CO\n",
       "6      Connecticut     3574097          2.4           CT\n",
       "7         Delaware      897934          5.8           DE\n",
       "8          Florida    18801310          5.8           FL\n",
       "9          Georgia     9687653          5.7           GA\n",
       "10          Hawaii     1360301          1.8           HI\n",
       "11           Idaho     1567582          2.0           ID\n",
       "12        Illinois    12830632          5.3           IL\n",
       "13         Indiana     6483802          5.0           IN\n",
       "14            Iowa     3046355          1.9           IA\n",
       "15          Kansas     2853118          3.1           KS\n",
       "16        Kentucky     4339367          3.6           KY\n",
       "17       Louisiana     4533372         10.3           LA\n",
       "18           Maine     1328361          1.6           ME\n",
       "19        Maryland     5773552          6.1           MD\n",
       "20   Massachusetts     6547629          2.0           MA\n",
       "21        Michigan     9883640          5.4           MI\n",
       "22       Minnesota     5303925          1.6           MN\n",
       "23     Mississippi     2967297          8.6           MS\n",
       "24        Missouri     5988927          6.6           MO\n",
       "25         Montana      989415          3.6           MT\n",
       "26        Nebraska     1826341          2.9           NE\n",
       "27          Nevada     2700551          6.0           NV\n",
       "28   New Hampshire     1316470          0.9           NH\n",
       "29      New Jersey     8791894          3.9           NJ\n",
       "30      New Mexico     2059179          4.8           NM\n",
       "31        New York    19378102          3.1           NY\n",
       "32  North Carolina     9535483          5.1           NC\n",
       "33    North Dakota      672591          3.0           ND\n",
       "34            Ohio    11536504          4.0           OH\n",
       "35        Oklahoma     3751351          4.5           OK\n",
       "36          Oregon     3831074          2.0           OR\n",
       "37    Pennsylvania    12702379          4.8           PA\n",
       "38    Rhode Island     1052567          2.4           RI\n",
       "39  South Carolina     4625364          6.4           SC\n",
       "40    South Dakota      814180          2.3           SD\n",
       "41       Tennessee     6346105          5.7           TN\n",
       "42           Texas    25145561          4.4           TX\n",
       "43            Utah     2763885          2.3           UT\n",
       "44         Vermont      625741          1.6           VT\n",
       "45        Virginia     8001024          4.1           VA\n",
       "46      Washington     6724540          2.5           WA\n",
       "47   West Virginia     1852994          4.0           WV\n",
       "48       Wisconsin     5686986          2.9           WI\n",
       "49         Wyoming      563626          2.7           WY"
      ]
     },
     "execution_count": 5,
     "metadata": {},
     "output_type": "execute_result"
    }
   ],
   "source": [
    "# state: 주별 인구와 살인 비율을 담고 있는 데이터 프레임\n",
    "state = pd.read_csv('C:/data/stats_for_ds/state.csv') ;state"
   ]
  },
  {
   "cell_type": "code",
   "execution_count": 14,
   "id": "dcab984e",
   "metadata": {},
   "outputs": [
    {
     "name": "stdout",
     "output_type": "stream",
     "text": [
      "평균:  6162876.3\n",
      "절사평균:  4783697.125\n",
      "중앙값(median):  4436369.5\n"
     ]
    }
   ],
   "source": [
    "print('평균: ', state['Population'].mean())\n",
    "print('절사평균: ', stats.trim_mean(state['Population'], 0.1)) # 0.1: 각 끝에서 10% 제외\n",
    "print('중앙값(median): ', state['Population'].median())"
   ]
  },
  {
   "cell_type": "markdown",
   "id": "3797e8b6",
   "metadata": {},
   "source": [
    "평균>중앙값>절사평균"
   ]
  },
  {
   "cell_type": "code",
   "execution_count": 2,
   "id": "59482333",
   "metadata": {},
   "outputs": [
    {
     "data": {
      "text/plain": [
       "'\\nhttps://anaconda.org/conda-forge/wquantiles\\n'"
      ]
     },
     "execution_count": 2,
     "metadata": {},
     "output_type": "execute_result"
    }
   ],
   "source": [
    "import wquantiles\n",
    "\n",
    "'''\n",
    "https://anaconda.org/conda-forge/wquantiles\n",
    "'''"
   ]
  },
  {
   "cell_type": "code",
   "execution_count": 36,
   "id": "45ab7cd6",
   "metadata": {},
   "outputs": [
    {
     "name": "stdout",
     "output_type": "stream",
     "text": [
      "가중평균:  4.445833981123393\n",
      "가중 중앙값:  4.4\n"
     ]
    }
   ],
   "source": [
    "print('가중평균: ', np.average(state['Murder.Rate'], weights=state['Population']))\n",
    "print('가중 중앙값: ', wquantiles.median(state['Murder.Rate'], weights=state['Population']))"
   ]
  },
  {
   "cell_type": "markdown",
   "id": "83e30648",
   "metadata": {},
   "source": [
    "## 1.4 변이추정\n",
    "* 변이(variablility): 데이터 값이 얼마나 밀집해 있는지 혹은 퍼져 있는지를 나타내는 산포도(dispersion)를 나타냄\n",
    "* 변이를 측정하고, 이를 줄이고, 실제 변이와 랜덤을 구분하고, 실제 변이의 다양한 요인들을 알아보고, 변이가 있는 상황에서 결정을 내리는 등, 통계의 핵심에 이 변이가 있다\n",
    "\n",
    "###### 용어정리\n",
    "- 편차(deviation): 관측값과 위치 추정값 사이의 차이 (유의어: 오차, 잔차)\n",
    "- 분산(variation): 평균과의 편차를 제곱한 값들의 합을 n-1로 나눈 값. n은 데이터 갯수 (유의어: 평균제곱오차)\n",
    "- 표준편차(standard deviation): 분산의 제곱근\n",
    "- 평균절대편차(mean absolute deviation): 평균과의 편차의 절댓값의 평균 (유의어: l1 노름, 맨해튼 노름)\n",
    "- 중간값의 중위절대편차(MAD, median absolute deviation from the median): 중간값과의 편차의 절댓값의 중간값\n",
    "- 범위(ragne): 최댓값과 최솟값의 차이\n",
    "- 순서통계량(order statistics): 최소에서 최대까지 정렬된 데이터 값에 따른 계량형 (유의어: 순위)\n",
    "- 백분위수(percentile): 어떤 값들의 P퍼센트가 이 값 혹은 더 작은 값을 갖고, (100-P)퍼센트가 이 값 혹은 더 큰 값을 갖도록 하는 값(유의어: 분위수)\n",
    "- 사분위범위(IQR, interquartile range): 75번째 백분위수와 25번째 백분위수 사이의 차이\n",
    "\n",
    "### 1.4.1 표준편차와 관련 추정값들 \n",
    "* 표준편차는 원래 데이터와 같은 척도(scale)에 있기 때문에 분산보다 훨씬 해석하기 쉽다.\n",
    "* 분산, 표준편차, 평균절대편차 모두 특잇값과 극단값에 로버스트 하지 않다.\n",
    "* 분산과 표준편차는 제곱편차를 사용하기 때문에 특히 특잇값에 민감\n",
    "\n",
    "* 중앙값의 중위절대편차(MAD): 로버스트한 변이 추정값\n",
    "\n",
    "### 1.4.2 백분위수에 기초한 추정 \n",
    "* 범위는 특잇값에 매우 민감하여 데이터의 변이를 측정하는데 그렇게 유용하지는 않다.\n",
    "* 사분위범위는 양극단값을 제거함으로써 로버스트한 변이 추정의 대표적인 방법\n",
    "* 데이터 집합이 매우 클 경우, 정확한 백분위수를 계산하기 위해 모든 값을 정렬하는 것은 매우 많은 연산을 필요로 한다. 따라서, ML과 통계 소프트웨어는 백분위수의 근삿값을 사용하여 빠르고 어느정도의 정확도를 보장한다."
   ]
  },
  {
   "cell_type": "markdown",
   "id": "5317f1d8",
   "metadata": {},
   "source": [
    "## 1.4.3 예제: 주별 인구의 변이 추정"
   ]
  },
  {
   "cell_type": "code",
   "execution_count": 3,
   "id": "4a8d5b64",
   "metadata": {
    "scrolled": true
   },
   "outputs": [],
   "source": [
    "from statsmodels import robust"
   ]
  },
  {
   "cell_type": "code",
   "execution_count": 33,
   "id": "82e8b986",
   "metadata": {},
   "outputs": [
    {
     "name": "stdout",
     "output_type": "stream",
     "text": [
      "표준편차(std):  6848235.347401142\n",
      "사분위범위(IQR):  4847308.0\n",
      "중위절대편차(MAD):  3849876.1459979336\n"
     ]
    }
   ],
   "source": [
    "print('표준편차(std): ', state['Population'].std())\n",
    "print('사분위범위(IQR): ', state['Population'].quantile(0.75) - state['Population'].quantile(0.25))\n",
    "print('중위절대편차(MAD): ', robust.scale.mad(state['Population']))"
   ]
  },
  {
   "cell_type": "markdown",
   "id": "6ad58cf1",
   "metadata": {},
   "source": [
    "###### 21.09.24"
   ]
  },
  {
   "cell_type": "markdown",
   "id": "894c1e44",
   "metadata": {},
   "source": [
    "### 1.5 데이터 분포 탐색하기\n",
    "\n",
    "<br>\n",
    "\n",
    "<용어정리>\n",
    " - 상자그림(boxplot): 투키가 데이터의 분포를 시각화하기 위한 간단한 방법으로 소개한 그림. (유의어: 상자수염도)\n",
    " - 도수분포표(frequency table): 어떤 구간(interval, bin)에 해당하는 수치 데이터 값들의 빈도를 나타내는 기록\n",
    " - 히스토그램(histogram): x축은 구간들을, y축은 빈도수를 나타내는 도수 테이블의 그림. 시각적으로 비슷하지만 막대 그래프를 히스토그램과 혼동해서는 안 된다. 차이점에 대한 설명은 1.6절 참조\n",
    " - 밀도 그림(density plot): 히스토그램을 부드러운 곡선으로 나타낸 그림. 커널밀도추정(kernel density estimation)을 주로 사용한다."
   ]
  },
  {
   "cell_type": "markdown",
   "id": "1f1ca20c",
   "metadata": {},
   "source": [
    "#### 1.5.1 백분위수와 상자그림\n",
    "\n",
    " - 백분위수는 데이터의 흩어진 정도 뿐 아니라 분포를 알아보는데에도 유용하다\n",
    " - 주로 사분위수(25, 50, 75번째 백분위수)나 십분위수(decile)(10, 20, ... 90번째 백분위수)를 사용\n",
    " - 특히 백분위수는 꼬리(tail)부분(외측 범위)을 묘사하는데 제격\n",
    "\n",
    "<br>\n",
    "\n",
    " - 상자그림은 백분위수를 이용해 데이터의 분산을 쉽게 시각화 하는 방법\n"
   ]
  },
  {
   "cell_type": "code",
   "execution_count": 7,
   "id": "e2e9e967",
   "metadata": {},
   "outputs": [
    {
     "data": {
      "text/plain": [
       "0.05    1.600\n",
       "0.25    2.425\n",
       "0.50    4.000\n",
       "0.75    5.550\n",
       "0.95    6.510\n",
       "Name: Murder.Rate, dtype: float64"
      ]
     },
     "execution_count": 7,
     "metadata": {},
     "output_type": "execute_result"
    }
   ],
   "source": [
    "# 백분위수\n",
    "state['Murder.Rate'].quantile([0.05, 0.25, 0.5, 0.75, 0.95])"
   ]
  },
  {
   "cell_type": "code",
   "execution_count": 11,
   "id": "fab8e7db",
   "metadata": {},
   "outputs": [
    {
     "data": {
      "text/plain": [
       "Text(0, 0.5, 'Population (millions)')"
      ]
     },
     "execution_count": 11,
     "metadata": {},
     "output_type": "execute_result"
    },
    {
     "data": {
      "image/png": "[encoded data removed]",
      "text/plain": [
       "<Figure size 432x288 with 1 Axes>"
      ]
     },
     "metadata": {
      "needs_background": "light"
     },
     "output_type": "display_data"
    }
   ],
   "source": [
    "# 상자그림 (pandas에서 제공하는 df에 대한 탐색 플롯)\n",
    "ax = (state['Population']/1_000_000).plot.box() \n",
    "ax.set_ylabel('Population (millions)')\n",
    "\n",
    "'''\n",
    "상자그림의 위, 아래: 75%, 25% 백분위수\n",
    "상자그림 중간 수평선: 중앙값(50% 백분위수)\n",
    "구렛나루처럼 위아래로 나 있는 점선: 수염(whisker), 데이터 전체의 범위를 나타내주는 선\n",
    "수염보다 더 바깥쪽에 위치한 데이터: 특잇값\n",
    "'''"
   ]
  },
  {
   "cell_type": "markdown",
   "id": "e241a28b",
   "metadata": {},
   "source": [
    "#### 1.5.2 도수분포표와 히스토그램\n",
    "<br>\n",
    "\n",
    " - 도수분포표: 변수의 범위를 동일한 구간으로 나눈 다음, 각 구간마다 몇 개의 변숫값이 존재하는지를 보여주기 위해 사용  <br>\n",
    " - 구간의 크기가 너무 크면 분포를 나타내는 중요한 특징을 놓칠 수 있다.  <br>\n",
    " - 구간의 크기가 너무 작으면 큰 그림을 볼 수 없다.  <br>\n",
    " - 따라서, 구간의 크기를 바꿔보는 것도 유ㅇ용한 정보를 얻는 좋은 정보 <br><br>\n",
    " \n",
    " - 히스토그램은 도수분포표를 시각화하는 방법\n",
    " - x축: 구간, y축: 구간별 데이터 갯수"
   ]
  },
  {
   "cell_type": "markdown",
   "id": "be4f7a05",
   "metadata": {},
   "source": [
    "- 히스토그램이 담고있는 정보 <br>\n",
    ": 그래프에 빈 구간들이 있을 수 있다. <br>\n",
    ": 구간은 동일한 크기를 갖는다. <br>\n",
    ": 구간의 수(혹은 구간의 크기)는 사용자가 결정할 수 있다. <br>\n",
    ": 빈 구간이 있지 않은 이상, 막대 사이는 공간 없이 서로 붙어있다. <br>"
   ]
  },
  {
   "cell_type": "markdown",
   "id": "1b4d79c1",
   "metadata": {},
   "source": [
    "###### TIP. 통계학에서 말하는 모멘트 <br>\n",
    ": 통계학 이론에서 위치와 변이는 각각 분포의 일차 및 이차 모멘트(moment, 또는 적률)라고 한다.<br>\n",
    ": 삼차, 사차 모멘트는 각각 왜도(skewness), 첨도(kurtosis) <br>\n",
    ": 이러한 모멘트 값들은 직접 구하기보다 시각화를 통해 확인 <br><br>\n",
    "\n",
    "- 왜도: 데이터가 큰값/작은값 쪽으로 얼마나 비스듬히 쏠려있는지 <br>\n",
    "- 첨도: 데이터가 극단값을 갖는 경향성"
   ]
  },
  {
   "cell_type": "code",
   "execution_count": 13,
   "id": "0a6478ca",
   "metadata": {
    "scrolled": true
   },
   "outputs": [
    {
     "data": {
      "text/plain": [
       "0       (4232659.0, 7901692.0]\n",
       "1       (526935.67, 4232659.0]\n",
       "2       (4232659.0, 7901692.0]\n",
       "3       (526935.67, 4232659.0]\n",
       "4     (33584923.0, 37253956.0]\n",
       "5       (4232659.0, 7901692.0]\n",
       "6       (526935.67, 4232659.0]\n",
       "7       (526935.67, 4232659.0]\n",
       "8     (15239758.0, 18908791.0]\n",
       "9      (7901692.0, 11570725.0]\n",
       "10      (526935.67, 4232659.0]\n",
       "11      (526935.67, 4232659.0]\n",
       "12    (11570725.0, 15239758.0]\n",
       "13      (4232659.0, 7901692.0]\n",
       "14      (526935.67, 4232659.0]\n",
       "15      (526935.67, 4232659.0]\n",
       "16      (4232659.0, 7901692.0]\n",
       "17      (4232659.0, 7901692.0]\n",
       "18      (526935.67, 4232659.0]\n",
       "19      (4232659.0, 7901692.0]\n",
       "20      (4232659.0, 7901692.0]\n",
       "21     (7901692.0, 11570725.0]\n",
       "22      (4232659.0, 7901692.0]\n",
       "23      (526935.67, 4232659.0]\n",
       "24      (4232659.0, 7901692.0]\n",
       "25      (526935.67, 4232659.0]\n",
       "26      (526935.67, 4232659.0]\n",
       "27      (526935.67, 4232659.0]\n",
       "28      (526935.67, 4232659.0]\n",
       "29     (7901692.0, 11570725.0]\n",
       "30      (526935.67, 4232659.0]\n",
       "31    (18908791.0, 22577824.0]\n",
       "32     (7901692.0, 11570725.0]\n",
       "33      (526935.67, 4232659.0]\n",
       "34     (7901692.0, 11570725.0]\n",
       "35      (526935.67, 4232659.0]\n",
       "36      (526935.67, 4232659.0]\n",
       "37    (11570725.0, 15239758.0]\n",
       "38      (526935.67, 4232659.0]\n",
       "39      (4232659.0, 7901692.0]\n",
       "40      (526935.67, 4232659.0]\n",
       "41      (4232659.0, 7901692.0]\n",
       "42    (22577824.0, 26246857.0]\n",
       "43      (526935.67, 4232659.0]\n",
       "44      (526935.67, 4232659.0]\n",
       "45     (7901692.0, 11570725.0]\n",
       "46      (4232659.0, 7901692.0]\n",
       "47      (526935.67, 4232659.0]\n",
       "48      (4232659.0, 7901692.0]\n",
       "49      (526935.67, 4232659.0]\n",
       "Name: Population, dtype: category\n",
       "Categories (10, interval[float64]): [(526935.67, 4232659.0] < (4232659.0, 7901692.0] < (7901692.0, 11570725.0] < (11570725.0, 15239758.0] ... (22577824.0, 26246857.0] < (26246857.0, 29915890.0] < (29915890.0, 33584923.0] < (33584923.0, 37253956.0]]"
      ]
     },
     "execution_count": 13,
     "metadata": {},
     "output_type": "execute_result"
    }
   ],
   "source": [
    "\n",
    "binnedPopulation = pd.cut(state['Population'], 10); binnedPopulation\n",
    "\n",
    "# pd.cut: 값들을 각 구간에 매핑하는 시리즈를 만듦"
   ]
  },
  {
   "cell_type": "code",
   "execution_count": 15,
   "id": "981d608f",
   "metadata": {},
   "outputs": [
    {
     "data": {
      "text/plain": [
       "(526935.67, 4232659.0]      24\n",
       "(4232659.0, 7901692.0]      14\n",
       "(7901692.0, 11570725.0]      6\n",
       "(11570725.0, 15239758.0]     2\n",
       "(15239758.0, 18908791.0]     1\n",
       "(18908791.0, 22577824.0]     1\n",
       "(22577824.0, 26246857.0]     1\n",
       "(33584923.0, 37253956.0]     1\n",
       "(26246857.0, 29915890.0]     0\n",
       "(29915890.0, 33584923.0]     0\n",
       "Name: Population, dtype: int64"
      ]
     },
     "execution_count": 15,
     "metadata": {},
     "output_type": "execute_result"
    }
   ],
   "source": [
    "binnedPopulation.value_counts() \n",
    "\n",
    "# value_counts를 이용하여 빈도 테이블을 구함"
   ]
  },
  {
   "cell_type": "code",
   "execution_count": 17,
   "id": "0afbc48a",
   "metadata": {},
   "outputs": [
    {
     "data": {
      "text/plain": [
       "Text(0.5, 0, 'Population (millions)')"
      ]
     },
     "execution_count": 17,
     "metadata": {},
     "output_type": "execute_result"
    },
    {
     "data": {
      "image/png": "[encoded data removed]",
      "text/plain": [
       "<Figure size 288x288 with 1 Axes>"
      ]
     },
     "metadata": {
      "needs_background": "light"
     },
     "output_type": "display_data"
    }
   ],
   "source": [
    "#### 히스토그램\n",
    "ax = (state['Population']/1_000_000).plot.hist(figsize=(4, 4))\n",
    "ax.set_xlabel('Population (millions)')"
   ]
  },
  {
   "cell_type": "markdown",
   "id": "7722744f",
   "metadata": {},
   "source": [
    "#### 1.5.3 밀도 그림과 추정\n",
    "\n",
    "- 밀도그림은 데이터의 분포를 연속된 선으로 보여준다.(즉, 부드러운 히스토그램) <br>\n",
    "- 커널밀도추정을 통해 데이터로부터 직접 계산 <br> <br>\n",
    "\n",
    "- 히스토그램과 가장 큰 차이는 y축 값의 단위 <br>\n",
    "- 밀도 그림에서는 갯수가 아닌 비율을 표시함. <br> <br>\n",
    "\n",
    "- 밀도 곡선 아래의 총 면적은 1이고 구간의 갯수 대신 x축의 두 점 사이의 곡선 아래 면적을 계산하면 이는 두 점 사이에 있는 분포의 비율에 해당"
   ]
  },
  {
   "cell_type": "markdown",
   "id": "d0592152",
   "metadata": {},
   "source": [
    "##### TIP. 밀도추정 (p.45)"
   ]
  },
  {
   "cell_type": "code",
   "execution_count": 20,
   "id": "8a0ac6c1",
   "metadata": {},
   "outputs": [
    {
     "name": "stderr",
     "output_type": "stream",
     "text": [
      "C:\\Users\\minjw\\anaconda3\\lib\\site-packages\\numpy\\lib\\histograms.py:905: RuntimeWarning: invalid value encountered in true_divide\n",
      "  return n/db/n.sum(), bin_edges\n"
     ]
    },
    {
     "data": {
      "text/plain": [
       "Text(0.5, 0, 'Murder Rate (per 100,000)')"
      ]
     },
     "execution_count": 20,
     "metadata": {},
     "output_type": "execute_result"
    },
    {
     "data": {
      "image/png": "[encoded data removed]",
      "text/plain": [
       "<Figure size 432x288 with 1 Axes>"
      ]
     },
     "metadata": {
      "needs_background": "light"
     },
     "output_type": "display_data"
    }
   ],
   "source": [
    "# pandas는 밀도 그림을 생성하기 위해 density 메서드를 제공한다.\n",
    "# 밀도 곡선의 부드러움을 제어하기 위해 bw_method인수 사용\n",
    "\n",
    "ax = state['Population'].plot.hist(density=True, xlim=[0,12], bins=range(1,12))\n",
    "state['Murder.Rate'].plot.density(ax=ax)\n",
    "ax.set_xlabel('Murder Rate (per 100,000)')"
   ]
  },
  {
   "cell_type": "markdown",
   "id": "fb60acce",
   "metadata": {},
   "source": [
    "###### <주요개념> \n",
    "- 도수 히스토그램은 y축에 횟수를, x축에 변숫값들을 표시하고 하눈ㄴ에 데이터의 분포를 볼 수 있다. <br>\n",
    "- 도수분포표는 히스토그램에 보이는 횟수들을 표 형태로 나타낸 것이다.\n",
    "- 상작그림에서 상자의 위/아래 부분은 각각 75%/25% 백분위수를 의미하며, 이것 역시 데이터의 분포를 한 눈에 파악할 수 있도록 돕는다. 주로 분포들을 서로 비교하기 위해 사용된다. (상자에 전체의 50% 데이터가 포함되어있다)\n",
    "- 밀도 그림은 히스토그램의 부드러운 버전. 데이터로부터 이 그림을 얻기 위해서는 어떤 함수를 구해야 하는데 여러 가지 가능한 추정 방법이 있다.\n"
   ]
  },
  {
   "cell_type": "markdown",
   "id": "189cfa6e",
   "metadata": {},
   "source": [
    "### 1.6 이진 데이터와 범주 데이터 탐색하기\n",
    "- 범주형 데이터에서는 간단한 비율이나 퍼센트를 이용해 데이터에 관해 이야기할 수 있음 <br>\n",
    "\n",
    "###### <용어정리>\n",
    "- 최빈값(mode): 데이터에서 가장 자주 등장하는 범주 혹은 값  <br>\n",
    "- 기댓값(expected value): 범주에 해당하는 어떤 수치가 있을 때, 범주의 출현 확률(probability)에 따른 평균 <br> <br>\n",
    "- 막대도표(bar chart): 각 범주의 빈도수 혹은 비율을 막대로 나타낸 그림 <br>\n",
    "- 파이그림(pie chart): 각 범주의 빈도수 혹은 비율을 원의 부채꼴 모양으로 나타낸 그림  <br>"
   ]
  },
  {
   "cell_type": "markdown",
   "id": "40c95922",
   "metadata": {},
   "source": [
    "- 막대도표는 히스토그램과 매우 유사\n",
    "<br>\n",
    "\n",
    "- 막대도표의 x축은 각 요인 변수(factored variable)의 서로 다른 범주들을 나타내는 반면, <br>\n",
    "- 히스토그램의 x축은 수치적으로 나타낼 수 있는 하나의 변수 값을 의미<br>\n",
    "<br>\n",
    "\n",
    "- 히스토그램에서 막대들은 일반적으로 서로 붙어 있고, 중간에 틈이 있으면 그 부분에 해당하는 값들이 존재하지 않음을 의미<br>\n",
    "- 막대도표에서는 막대들이 서로 떨어져있음"
   ]
  },
  {
   "cell_type": "markdown",
   "id": "9b239513",
   "metadata": {},
   "source": [
    "###### NOTE_ 범주형 데이터로서의 수치 데이터\n",
    "도수분포의 표는 엄밀히 말해 수치데이터를, 순서를 고려한 요인(factor)들로 변환했다고 볼 수 있다. 이런 관점에서, 히스토그램과 막대도표는 비슷하다고 할 수 있다. 막대도표에서 x축의 범주들이 순차적이지 않다는 점만 제외한다면 말이다. 이런 수치형 데이터를 범주형으로 변환하는 것은 데이터의 복잡도(그리고 크기)를 줄여준다는 점에서 중요하고 실제 많이 사용된다. 특히, 데이터 분석을 시작하는 단계에서, 피처들 사이의 관계를 알아보기 위해 사용된다.\n"
   ]
  },
  {
   "cell_type": "code",
   "execution_count": 24,
   "id": "3f205955",
   "metadata": {},
   "outputs": [
    {
     "data": {
      "text/html": [
       "<div>\n",
       "<style scoped>\n",
       "    .dataframe tbody tr th:only-of-type {\n",
       "        vertical-align: middle;\n",
       "    }\n",
       "\n",
       "    .dataframe tbody tr th {\n",
       "        vertical-align: top;\n",
       "    }\n",
       "\n",
       "    .dataframe thead th {\n",
       "        text-align: right;\n",
       "    }\n",
       "</style>\n",
       "<table border=\"1\" class=\"dataframe\">\n",
       "  <thead>\n",
       "    <tr style=\"text-align: right;\">\n",
       "      <th></th>\n",
       "      <th>Carrier</th>\n",
       "      <th>ATC</th>\n",
       "      <th>Weather</th>\n",
       "      <th>Security</th>\n",
       "      <th>Inbound</th>\n",
       "    </tr>\n",
       "  </thead>\n",
       "  <tbody>\n",
       "    <tr>\n",
       "      <th>0</th>\n",
       "      <td>64263.16</td>\n",
       "      <td>84856.5</td>\n",
       "      <td>11235.42</td>\n",
       "      <td>343.15</td>\n",
       "      <td>118427.82</td>\n",
       "    </tr>\n",
       "  </tbody>\n",
       "</table>\n",
       "</div>"
      ],
      "text/plain": [
       "    Carrier      ATC   Weather  Security    Inbound\n",
       "0  64263.16  84856.5  11235.42    343.15  118427.82"
      ]
     },
     "execution_count": 24,
     "metadata": {},
     "output_type": "execute_result"
    }
   ],
   "source": [
    "# dfw: 댈러스-포트워스 공항에서 매년 발생하는 항공기 지연의 원인과 그 횟수\n",
    "dfw = pd.read_csv('C:/data/stats_for_ds/dfw_airline.csv') ;dfw"
   ]
  },
  {
   "cell_type": "code",
   "execution_count": 25,
   "id": "6ab52518",
   "metadata": {},
   "outputs": [
    {
     "data": {
      "text/plain": [
       "Text(0, 0.5, 'Count')"
      ]
     },
     "execution_count": 25,
     "metadata": {},
     "output_type": "execute_result"
    },
    {
     "data": {
      "image/png": "[encoded data removed]",
      "text/plain": [
       "<Figure size 288x288 with 1 Axes>"
      ]
     },
     "metadata": {
      "needs_background": "light"
     },
     "output_type": "display_data"
    }
   ],
   "source": [
    "ax=dfw.transpose().plot.bar(figsize=(4, 4), legend=False)\n",
    "ax.set_xlabel('Case of delay')\n",
    "ax.set_ylabel('Count')"
   ]
  },
  {
   "cell_type": "markdown",
   "id": "a1de3eb3",
   "metadata": {},
   "source": [
    "#### 1.6.1 최빈값"
   ]
  },
  {
   "cell_type": "markdown",
   "id": "a3b3e5d7",
   "metadata": {},
   "source": [
    "#### 1.6.2 기댓값\n",
    "\n",
    "- 기댓값 = sum(각 결과값 * 해당 결과값의 발생 확률) <br> <br>\n",
    "\n",
    "- 기대값은 가중평균과 같은 꼴. 보통 주관적인 평가에 따른 미대의 기댓값과 각 확률 가중치만큼을 모두 더한 값"
   ]
  },
  {
   "cell_type": "markdown",
   "id": "1925185b",
   "metadata": {},
   "source": [
    "#### 1.6.3 확률\n",
    "- 확률의 개념을 정의하는데 철학적 토론을 하게 되지만 이 책에서는 '상황이 수없이 반복될 경우 사건이 발생할 비율'이라고 설명"
   ]
  },
  {
   "cell_type": "markdown",
   "id": "483a76c9",
   "metadata": {},
   "source": [
    "###### 주요개념\n",
    "- 범주형 데이터는 보통 비율로 요약할 수 있고, 막대도표를 사용해 시각화한다. <br>\n",
    "- 범주란 전혀 다른 집합(사과와 오렌지, 여자와 남자 등), 정도를 나타내는 요인변수의 수준(낮음, 중간, 높음), 구간별로 나뉜 수치데이터 같은 것들을 의미한다.<br>\n",
    "- 기댓값은 어떤 값과 그 값이 일어날 확률을 서로 곱해 총합한 값을 의미. 주로 요인변수의 수준을 요약하는데 사용"
   ]
  },
  {
   "cell_type": "markdown",
   "id": "803ef4ef",
   "metadata": {},
   "source": [
    "### 1.7 상관관계\n",
    "\n",
    "###### <용어정리>\n",
    "- 상관계수(correlation coefficient): 수치적 변수들 간에 어떤 관계가 있는지를 나타내기 위해 사용되는 측정량 (-1 ~ 1 의 범위) <br>\n",
    "- 상관행렬(correlation matrix): 행과 열이 변수들을 의미하는 표를 말하며, 각 셀은 그 행과 열에 해당하는 변수들 간의 상관관계를 의미 <br>\n",
    "- 산점도(scatter plot): x축과 y축이 서로 다른 두 개의 변수를 나타내는 도표\n",
    "\n",
    "![correlation](C:/Users/minjw/study_note/correlation.png)"
   ]
  },
  {
   "cell_type": "code",
   "execution_count": 27,
   "id": "86a90a66",
   "metadata": {
    "collapsed": true
   },
   "outputs": [
    {
     "ename": "NameError",
     "evalue": "name 'Image' is not defined",
     "output_type": "error",
     "traceback": [
      "\u001b[1;31m---------------------------------------------------------------------------\u001b[0m",
      "\u001b[1;31mNameError\u001b[0m                                 Traceback (most recent call last)",
      "\u001b[1;32m<ipython-input-27-6356508e40af>\u001b[0m in \u001b[0;36m<module>\u001b[1;34m\u001b[0m\n\u001b[1;32m----> 1\u001b[1;33m \u001b[0mImage\u001b[0m\u001b[1;33m(\u001b[0m\u001b[1;34m'C:/Users/minjw/study_note/correlation.png'\u001b[0m\u001b[1;33m)\u001b[0m\u001b[1;33m\u001b[0m\u001b[1;33m\u001b[0m\u001b[0m\n\u001b[0m",
      "\u001b[1;31mNameError\u001b[0m: name 'Image' is not defined"
     ]
    }
   ],
   "source": [
    "Image('C:/Users/minjw/study_note/correlation.png')"
   ]
  },
  {
   "cell_type": "markdown",
   "id": "0c91aba6",
   "metadata": {},
   "source": [
    "- 변수들이 선형 관계를 갖지 않는 경우, 더이상 유용한 지표가 아니다. <br><br>\n",
    "\n",
    "- 상관계수 행렬의 대각원소는 모두 1이며, 대각원소를 기준으로 대칭행렬이다.<br>\n",
    "- 상관행렬을 이용해 여러 변수들 사이의 관계를 시각화하는 데 사용한다."
   ]
  },
  {
   "cell_type": "code",
   "execution_count": 39,
   "id": "e482a943",
   "metadata": {},
   "outputs": [
    {
     "data": {
      "text/html": [
       "<div>\n",
       "<style scoped>\n",
       "    .dataframe tbody tr th:only-of-type {\n",
       "        vertical-align: middle;\n",
       "    }\n",
       "\n",
       "    .dataframe tbody tr th {\n",
       "        vertical-align: top;\n",
       "    }\n",
       "\n",
       "    .dataframe thead th {\n",
       "        text-align: right;\n",
       "    }\n",
       "</style>\n",
       "<table border=\"1\" class=\"dataframe\">\n",
       "  <thead>\n",
       "    <tr style=\"text-align: right;\">\n",
       "      <th></th>\n",
       "      <th>ADS</th>\n",
       "      <th>CA</th>\n",
       "      <th>MSFT</th>\n",
       "      <th>RHT</th>\n",
       "      <th>CTSH</th>\n",
       "      <th>CSC</th>\n",
       "      <th>EMC</th>\n",
       "      <th>IBM</th>\n",
       "      <th>XRX</th>\n",
       "      <th>ALTR</th>\n",
       "      <th>...</th>\n",
       "      <th>WAT</th>\n",
       "      <th>ALXN</th>\n",
       "      <th>AMGN</th>\n",
       "      <th>BXLT</th>\n",
       "      <th>BIIB</th>\n",
       "      <th>CELG</th>\n",
       "      <th>GILD</th>\n",
       "      <th>REGN</th>\n",
       "      <th>VRTX</th>\n",
       "      <th>HSIC</th>\n",
       "    </tr>\n",
       "  </thead>\n",
       "  <tbody>\n",
       "    <tr>\n",
       "      <th>1993-01-29</th>\n",
       "      <td>0.000000</td>\n",
       "      <td>0.060124</td>\n",
       "      <td>-0.022100</td>\n",
       "      <td>0.000000</td>\n",
       "      <td>0.000000</td>\n",
       "      <td>0.018897</td>\n",
       "      <td>0.007368</td>\n",
       "      <td>0.092165</td>\n",
       "      <td>0.259140</td>\n",
       "      <td>-0.007105</td>\n",
       "      <td>...</td>\n",
       "      <td>0.000000</td>\n",
       "      <td>0.000000</td>\n",
       "      <td>0.347160</td>\n",
       "      <td>0.000000</td>\n",
       "      <td>0.041670</td>\n",
       "      <td>0.000000</td>\n",
       "      <td>0.015564</td>\n",
       "      <td>1.750000</td>\n",
       "      <td>0.125000</td>\n",
       "      <td>0.000000</td>\n",
       "    </tr>\n",
       "    <tr>\n",
       "      <th>1993-02-01</th>\n",
       "      <td>0.000000</td>\n",
       "      <td>-0.180389</td>\n",
       "      <td>0.027621</td>\n",
       "      <td>0.000000</td>\n",
       "      <td>0.000000</td>\n",
       "      <td>0.018889</td>\n",
       "      <td>0.018425</td>\n",
       "      <td>0.115207</td>\n",
       "      <td>-0.100775</td>\n",
       "      <td>0.063893</td>\n",
       "      <td>...</td>\n",
       "      <td>0.000000</td>\n",
       "      <td>0.000000</td>\n",
       "      <td>-0.231440</td>\n",
       "      <td>0.000000</td>\n",
       "      <td>0.000000</td>\n",
       "      <td>-0.010410</td>\n",
       "      <td>0.007782</td>\n",
       "      <td>1.250000</td>\n",
       "      <td>0.125000</td>\n",
       "      <td>0.000000</td>\n",
       "    </tr>\n",
       "    <tr>\n",
       "      <th>1993-02-02</th>\n",
       "      <td>0.000000</td>\n",
       "      <td>-0.120257</td>\n",
       "      <td>0.035900</td>\n",
       "      <td>0.000000</td>\n",
       "      <td>0.000000</td>\n",
       "      <td>-0.075573</td>\n",
       "      <td>0.029482</td>\n",
       "      <td>-0.023041</td>\n",
       "      <td>0.028796</td>\n",
       "      <td>-0.014192</td>\n",
       "      <td>...</td>\n",
       "      <td>0.000000</td>\n",
       "      <td>0.000000</td>\n",
       "      <td>-0.115720</td>\n",
       "      <td>0.000000</td>\n",
       "      <td>0.000000</td>\n",
       "      <td>0.000000</td>\n",
       "      <td>-0.007792</td>\n",
       "      <td>-0.250000</td>\n",
       "      <td>0.000000</td>\n",
       "      <td>0.000000</td>\n",
       "    </tr>\n",
       "    <tr>\n",
       "      <th>1993-02-03</th>\n",
       "      <td>0.000000</td>\n",
       "      <td>0.060124</td>\n",
       "      <td>-0.024857</td>\n",
       "      <td>0.000000</td>\n",
       "      <td>0.000000</td>\n",
       "      <td>-0.151128</td>\n",
       "      <td>0.003689</td>\n",
       "      <td>-0.253454</td>\n",
       "      <td>-0.043190</td>\n",
       "      <td>-0.007105</td>\n",
       "      <td>...</td>\n",
       "      <td>0.000000</td>\n",
       "      <td>0.000000</td>\n",
       "      <td>-0.086790</td>\n",
       "      <td>0.000000</td>\n",
       "      <td>0.041670</td>\n",
       "      <td>-0.041670</td>\n",
       "      <td>-0.038919</td>\n",
       "      <td>-0.500000</td>\n",
       "      <td>0.062500</td>\n",
       "      <td>0.000000</td>\n",
       "    </tr>\n",
       "    <tr>\n",
       "      <th>1993-02-04</th>\n",
       "      <td>0.000000</td>\n",
       "      <td>-0.360770</td>\n",
       "      <td>-0.060757</td>\n",
       "      <td>0.000000</td>\n",
       "      <td>0.000000</td>\n",
       "      <td>0.113350</td>\n",
       "      <td>-0.022114</td>\n",
       "      <td>0.069862</td>\n",
       "      <td>0.000000</td>\n",
       "      <td>-0.007096</td>\n",
       "      <td>...</td>\n",
       "      <td>0.000000</td>\n",
       "      <td>0.000000</td>\n",
       "      <td>0.144650</td>\n",
       "      <td>0.000000</td>\n",
       "      <td>-0.041660</td>\n",
       "      <td>-0.031260</td>\n",
       "      <td>-0.046711</td>\n",
       "      <td>0.000000</td>\n",
       "      <td>0.062500</td>\n",
       "      <td>0.000000</td>\n",
       "    </tr>\n",
       "    <tr>\n",
       "      <th>...</th>\n",
       "      <td>...</td>\n",
       "      <td>...</td>\n",
       "      <td>...</td>\n",
       "      <td>...</td>\n",
       "      <td>...</td>\n",
       "      <td>...</td>\n",
       "      <td>...</td>\n",
       "      <td>...</td>\n",
       "      <td>...</td>\n",
       "      <td>...</td>\n",
       "      <td>...</td>\n",
       "      <td>...</td>\n",
       "      <td>...</td>\n",
       "      <td>...</td>\n",
       "      <td>...</td>\n",
       "      <td>...</td>\n",
       "      <td>...</td>\n",
       "      <td>...</td>\n",
       "      <td>...</td>\n",
       "      <td>...</td>\n",
       "      <td>...</td>\n",
       "    </tr>\n",
       "    <tr>\n",
       "      <th>2015-06-25</th>\n",
       "      <td>0.019989</td>\n",
       "      <td>-0.529999</td>\n",
       "      <td>-0.379997</td>\n",
       "      <td>0.080002</td>\n",
       "      <td>0.350003</td>\n",
       "      <td>-0.580002</td>\n",
       "      <td>-0.457999</td>\n",
       "      <td>-1.720001</td>\n",
       "      <td>-0.009936</td>\n",
       "      <td>0.039997</td>\n",
       "      <td>...</td>\n",
       "      <td>-2.500000</td>\n",
       "      <td>1.889999</td>\n",
       "      <td>-2.060012</td>\n",
       "      <td>0.150002</td>\n",
       "      <td>-1.630004</td>\n",
       "      <td>-0.990005</td>\n",
       "      <td>-2.250000</td>\n",
       "      <td>1.270019</td>\n",
       "      <td>-1.919998</td>\n",
       "      <td>-0.080002</td>\n",
       "    </tr>\n",
       "    <tr>\n",
       "      <th>2015-06-26</th>\n",
       "      <td>-1.299988</td>\n",
       "      <td>-0.330000</td>\n",
       "      <td>-0.390004</td>\n",
       "      <td>-1.820000</td>\n",
       "      <td>0.190003</td>\n",
       "      <td>0.330002</td>\n",
       "      <td>-0.328565</td>\n",
       "      <td>-0.769989</td>\n",
       "      <td>0.020000</td>\n",
       "      <td>0.000000</td>\n",
       "      <td>...</td>\n",
       "      <td>-0.070007</td>\n",
       "      <td>-2.380005</td>\n",
       "      <td>-1.390000</td>\n",
       "      <td>0.550004</td>\n",
       "      <td>-3.509979</td>\n",
       "      <td>-1.080002</td>\n",
       "      <td>-0.800003</td>\n",
       "      <td>-1.900024</td>\n",
       "      <td>-3.629997</td>\n",
       "      <td>0.440002</td>\n",
       "    </tr>\n",
       "    <tr>\n",
       "      <th>2015-06-29</th>\n",
       "      <td>-10.299988</td>\n",
       "      <td>-0.410000</td>\n",
       "      <td>-0.670002</td>\n",
       "      <td>-1.250000</td>\n",
       "      <td>-1.919998</td>\n",
       "      <td>-0.510002</td>\n",
       "      <td>-0.139999</td>\n",
       "      <td>-0.949997</td>\n",
       "      <td>-0.100000</td>\n",
       "      <td>-0.040001</td>\n",
       "      <td>...</td>\n",
       "      <td>-2.250000</td>\n",
       "      <td>-5.490005</td>\n",
       "      <td>-5.029999</td>\n",
       "      <td>0.090000</td>\n",
       "      <td>-8.290009</td>\n",
       "      <td>-1.209999</td>\n",
       "      <td>-2.419998</td>\n",
       "      <td>-9.620026</td>\n",
       "      <td>-3.770004</td>\n",
       "      <td>-2.479996</td>\n",
       "    </tr>\n",
       "    <tr>\n",
       "      <th>2015-06-30</th>\n",
       "      <td>-2.109986</td>\n",
       "      <td>-0.049999</td>\n",
       "      <td>-0.559997</td>\n",
       "      <td>-0.099999</td>\n",
       "      <td>-0.689999</td>\n",
       "      <td>-0.610001</td>\n",
       "      <td>0.239999</td>\n",
       "      <td>-1.330001</td>\n",
       "      <td>-0.200000</td>\n",
       "      <td>0.020001</td>\n",
       "      <td>...</td>\n",
       "      <td>-0.299988</td>\n",
       "      <td>0.270004</td>\n",
       "      <td>0.279999</td>\n",
       "      <td>-1.710001</td>\n",
       "      <td>0.390014</td>\n",
       "      <td>0.439995</td>\n",
       "      <td>-0.209999</td>\n",
       "      <td>-2.070007</td>\n",
       "      <td>-0.849999</td>\n",
       "      <td>-1.360001</td>\n",
       "    </tr>\n",
       "    <tr>\n",
       "      <th>2015-07-01</th>\n",
       "      <td>-1.210022</td>\n",
       "      <td>0.020000</td>\n",
       "      <td>-0.009998</td>\n",
       "      <td>0.869995</td>\n",
       "      <td>0.329998</td>\n",
       "      <td>-0.190003</td>\n",
       "      <td>-0.039999</td>\n",
       "      <td>0.520004</td>\n",
       "      <td>-0.030000</td>\n",
       "      <td>-0.079998</td>\n",
       "      <td>...</td>\n",
       "      <td>-0.250000</td>\n",
       "      <td>1.270005</td>\n",
       "      <td>0.050003</td>\n",
       "      <td>-1.380001</td>\n",
       "      <td>-2.910003</td>\n",
       "      <td>1.180000</td>\n",
       "      <td>-2.099999</td>\n",
       "      <td>-8.719970</td>\n",
       "      <td>2.080001</td>\n",
       "      <td>0.940002</td>\n",
       "    </tr>\n",
       "  </tbody>\n",
       "</table>\n",
       "<p>5647 rows × 517 columns</p>\n",
       "</div>"
      ],
      "text/plain": [
       "                  ADS        CA      MSFT       RHT      CTSH       CSC  \\\n",
       "1993-01-29   0.000000  0.060124 -0.022100  0.000000  0.000000  0.018897   \n",
       "1993-02-01   0.000000 -0.180389  0.027621  0.000000  0.000000  0.018889   \n",
       "1993-02-02   0.000000 -0.120257  0.035900  0.000000  0.000000 -0.075573   \n",
       "1993-02-03   0.000000  0.060124 -0.024857  0.000000  0.000000 -0.151128   \n",
       "1993-02-04   0.000000 -0.360770 -0.060757  0.000000  0.000000  0.113350   \n",
       "...               ...       ...       ...       ...       ...       ...   \n",
       "2015-06-25   0.019989 -0.529999 -0.379997  0.080002  0.350003 -0.580002   \n",
       "2015-06-26  -1.299988 -0.330000 -0.390004 -1.820000  0.190003  0.330002   \n",
       "2015-06-29 -10.299988 -0.410000 -0.670002 -1.250000 -1.919998 -0.510002   \n",
       "2015-06-30  -2.109986 -0.049999 -0.559997 -0.099999 -0.689999 -0.610001   \n",
       "2015-07-01  -1.210022  0.020000 -0.009998  0.869995  0.329998 -0.190003   \n",
       "\n",
       "                 EMC       IBM       XRX      ALTR  ...       WAT      ALXN  \\\n",
       "1993-01-29  0.007368  0.092165  0.259140 -0.007105  ...  0.000000  0.000000   \n",
       "1993-02-01  0.018425  0.115207 -0.100775  0.063893  ...  0.000000  0.000000   \n",
       "1993-02-02  0.029482 -0.023041  0.028796 -0.014192  ...  0.000000  0.000000   \n",
       "1993-02-03  0.003689 -0.253454 -0.043190 -0.007105  ...  0.000000  0.000000   \n",
       "1993-02-04 -0.022114  0.069862  0.000000 -0.007096  ...  0.000000  0.000000   \n",
       "...              ...       ...       ...       ...  ...       ...       ...   \n",
       "2015-06-25 -0.457999 -1.720001 -0.009936  0.039997  ... -2.500000  1.889999   \n",
       "2015-06-26 -0.328565 -0.769989  0.020000  0.000000  ... -0.070007 -2.380005   \n",
       "2015-06-29 -0.139999 -0.949997 -0.100000 -0.040001  ... -2.250000 -5.490005   \n",
       "2015-06-30  0.239999 -1.330001 -0.200000  0.020001  ... -0.299988  0.270004   \n",
       "2015-07-01 -0.039999  0.520004 -0.030000 -0.079998  ... -0.250000  1.270005   \n",
       "\n",
       "                AMGN      BXLT      BIIB      CELG      GILD      REGN  \\\n",
       "1993-01-29  0.347160  0.000000  0.041670  0.000000  0.015564  1.750000   \n",
       "1993-02-01 -0.231440  0.000000  0.000000 -0.010410  0.007782  1.250000   \n",
       "1993-02-02 -0.115720  0.000000  0.000000  0.000000 -0.007792 -0.250000   \n",
       "1993-02-03 -0.086790  0.000000  0.041670 -0.041670 -0.038919 -0.500000   \n",
       "1993-02-04  0.144650  0.000000 -0.041660 -0.031260 -0.046711  0.000000   \n",
       "...              ...       ...       ...       ...       ...       ...   \n",
       "2015-06-25 -2.060012  0.150002 -1.630004 -0.990005 -2.250000  1.270019   \n",
       "2015-06-26 -1.390000  0.550004 -3.509979 -1.080002 -0.800003 -1.900024   \n",
       "2015-06-29 -5.029999  0.090000 -8.290009 -1.209999 -2.419998 -9.620026   \n",
       "2015-06-30  0.279999 -1.710001  0.390014  0.439995 -0.209999 -2.070007   \n",
       "2015-07-01  0.050003 -1.380001 -2.910003  1.180000 -2.099999 -8.719970   \n",
       "\n",
       "                VRTX      HSIC  \n",
       "1993-01-29  0.125000  0.000000  \n",
       "1993-02-01  0.125000  0.000000  \n",
       "1993-02-02  0.000000  0.000000  \n",
       "1993-02-03  0.062500  0.000000  \n",
       "1993-02-04  0.062500  0.000000  \n",
       "...              ...       ...  \n",
       "2015-06-25 -1.919998 -0.080002  \n",
       "2015-06-26 -3.629997  0.440002  \n",
       "2015-06-29 -3.770004 -2.479996  \n",
       "2015-06-30 -0.849999 -1.360001  \n",
       "2015-07-01  2.080001  0.940002  \n",
       "\n",
       "[5647 rows x 517 columns]"
      ]
     },
     "execution_count": 39,
     "metadata": {},
     "output_type": "execute_result"
    }
   ],
   "source": [
    "import seaborn as sns\n",
    "import matplotlib.pyplot as plt\n",
    "\n",
    "sp500_px = pd.read_csv('C:/data/stats_for_ds/sp500_data.csv',index_col=0); sp500_px"
   ]
  },
  {
   "cell_type": "code",
   "execution_count": 34,
   "id": "ae153b91",
   "metadata": {},
   "outputs": [
    {
     "data": {
      "text/html": [
       "<div>\n",
       "<style scoped>\n",
       "    .dataframe tbody tr th:only-of-type {\n",
       "        vertical-align: middle;\n",
       "    }\n",
       "\n",
       "    .dataframe tbody tr th {\n",
       "        vertical-align: top;\n",
       "    }\n",
       "\n",
       "    .dataframe thead th {\n",
       "        text-align: right;\n",
       "    }\n",
       "</style>\n",
       "<table border=\"1\" class=\"dataframe\">\n",
       "  <thead>\n",
       "    <tr style=\"text-align: right;\">\n",
       "      <th></th>\n",
       "      <th>sector</th>\n",
       "      <th>sector_label</th>\n",
       "      <th>sub_sector</th>\n",
       "      <th>symbol</th>\n",
       "    </tr>\n",
       "  </thead>\n",
       "  <tbody>\n",
       "    <tr>\n",
       "      <th>0</th>\n",
       "      <td>information_technology</td>\n",
       "      <td>Technology</td>\n",
       "      <td>data_processing_&amp;_outsourced_services</td>\n",
       "      <td>ADS</td>\n",
       "    </tr>\n",
       "    <tr>\n",
       "      <th>1</th>\n",
       "      <td>information_technology</td>\n",
       "      <td>Technology</td>\n",
       "      <td>systems_software</td>\n",
       "      <td>CA</td>\n",
       "    </tr>\n",
       "    <tr>\n",
       "      <th>2</th>\n",
       "      <td>information_technology</td>\n",
       "      <td>Technology</td>\n",
       "      <td>systems_software</td>\n",
       "      <td>MSFT</td>\n",
       "    </tr>\n",
       "    <tr>\n",
       "      <th>3</th>\n",
       "      <td>information_technology</td>\n",
       "      <td>Technology</td>\n",
       "      <td>systems_software</td>\n",
       "      <td>RHT</td>\n",
       "    </tr>\n",
       "    <tr>\n",
       "      <th>4</th>\n",
       "      <td>information_technology</td>\n",
       "      <td>Technology</td>\n",
       "      <td>it_consulting_&amp;_services</td>\n",
       "      <td>CTSH</td>\n",
       "    </tr>\n",
       "    <tr>\n",
       "      <th>...</th>\n",
       "      <td>...</td>\n",
       "      <td>...</td>\n",
       "      <td>...</td>\n",
       "      <td>...</td>\n",
       "    </tr>\n",
       "    <tr>\n",
       "      <th>512</th>\n",
       "      <td>health_care</td>\n",
       "      <td>Health Care</td>\n",
       "      <td>biotechnology</td>\n",
       "      <td>CELG</td>\n",
       "    </tr>\n",
       "    <tr>\n",
       "      <th>513</th>\n",
       "      <td>health_care</td>\n",
       "      <td>Health Care</td>\n",
       "      <td>biotechnology</td>\n",
       "      <td>GILD</td>\n",
       "    </tr>\n",
       "    <tr>\n",
       "      <th>514</th>\n",
       "      <td>health_care</td>\n",
       "      <td>Health Care</td>\n",
       "      <td>biotechnology</td>\n",
       "      <td>REGN</td>\n",
       "    </tr>\n",
       "    <tr>\n",
       "      <th>515</th>\n",
       "      <td>health_care</td>\n",
       "      <td>Health Care</td>\n",
       "      <td>biotechnology</td>\n",
       "      <td>VRTX</td>\n",
       "    </tr>\n",
       "    <tr>\n",
       "      <th>516</th>\n",
       "      <td>health_care</td>\n",
       "      <td>Health Care</td>\n",
       "      <td>health_care_distributors</td>\n",
       "      <td>HSIC</td>\n",
       "    </tr>\n",
       "  </tbody>\n",
       "</table>\n",
       "<p>517 rows × 4 columns</p>\n",
       "</div>"
      ],
      "text/plain": [
       "                     sector sector_label  \\\n",
       "0    information_technology   Technology   \n",
       "1    information_technology   Technology   \n",
       "2    information_technology   Technology   \n",
       "3    information_technology   Technology   \n",
       "4    information_technology   Technology   \n",
       "..                      ...          ...   \n",
       "512             health_care  Health Care   \n",
       "513             health_care  Health Care   \n",
       "514             health_care  Health Care   \n",
       "515             health_care  Health Care   \n",
       "516             health_care  Health Care   \n",
       "\n",
       "                                sub_sector symbol  \n",
       "0    data_processing_&_outsourced_services    ADS  \n",
       "1                         systems_software     CA  \n",
       "2                         systems_software   MSFT  \n",
       "3                         systems_software    RHT  \n",
       "4                 it_consulting_&_services   CTSH  \n",
       "..                                     ...    ...  \n",
       "512                          biotechnology   CELG  \n",
       "513                          biotechnology   GILD  \n",
       "514                          biotechnology   REGN  \n",
       "515                          biotechnology   VRTX  \n",
       "516               health_care_distributors   HSIC  \n",
       "\n",
       "[517 rows x 4 columns]"
      ]
     },
     "execution_count": 34,
     "metadata": {},
     "output_type": "execute_result"
    }
   ],
   "source": [
    "sp500_sym = pd.read_csv('C:/data/stats_for_ds/sp500_sectors.csv'); sp500_sym"
   ]
  },
  {
   "cell_type": "code",
   "execution_count": 36,
   "id": "e12b0173",
   "metadata": {},
   "outputs": [
    {
     "data": {
      "text/html": [
       "<div>\n",
       "<style scoped>\n",
       "    .dataframe tbody tr th:only-of-type {\n",
       "        vertical-align: middle;\n",
       "    }\n",
       "\n",
       "    .dataframe tbody tr th {\n",
       "        vertical-align: top;\n",
       "    }\n",
       "\n",
       "    .dataframe thead th {\n",
       "        text-align: right;\n",
       "    }\n",
       "</style>\n",
       "<table border=\"1\" class=\"dataframe\">\n",
       "  <thead>\n",
       "    <tr style=\"text-align: right;\">\n",
       "      <th></th>\n",
       "      <th>XLI</th>\n",
       "      <th>QQQ</th>\n",
       "      <th>SPY</th>\n",
       "      <th>DIA</th>\n",
       "      <th>GLD</th>\n",
       "      <th>VXX</th>\n",
       "      <th>USO</th>\n",
       "      <th>IWM</th>\n",
       "      <th>XLE</th>\n",
       "      <th>XLY</th>\n",
       "      <th>XLU</th>\n",
       "      <th>XLB</th>\n",
       "      <th>XTL</th>\n",
       "      <th>XLV</th>\n",
       "      <th>XLP</th>\n",
       "      <th>XLF</th>\n",
       "      <th>XLK</th>\n",
       "    </tr>\n",
       "  </thead>\n",
       "  <tbody>\n",
       "    <tr>\n",
       "      <th>2012-07-02</th>\n",
       "      <td>-0.376098</td>\n",
       "      <td>0.096313</td>\n",
       "      <td>0.028223</td>\n",
       "      <td>-0.242796</td>\n",
       "      <td>0.419998</td>\n",
       "      <td>-10.400000</td>\n",
       "      <td>0.000000</td>\n",
       "      <td>0.534641</td>\n",
       "      <td>0.028186</td>\n",
       "      <td>0.095759</td>\n",
       "      <td>0.098311</td>\n",
       "      <td>-0.093713</td>\n",
       "      <td>0.019076</td>\n",
       "      <td>-0.009529</td>\n",
       "      <td>0.313499</td>\n",
       "      <td>0.018999</td>\n",
       "      <td>0.075668</td>\n",
       "    </tr>\n",
       "    <tr>\n",
       "      <th>2012-07-03</th>\n",
       "      <td>0.376099</td>\n",
       "      <td>0.481576</td>\n",
       "      <td>0.874936</td>\n",
       "      <td>0.728405</td>\n",
       "      <td>0.490006</td>\n",
       "      <td>-3.520000</td>\n",
       "      <td>0.250000</td>\n",
       "      <td>0.926067</td>\n",
       "      <td>0.995942</td>\n",
       "      <td>0.000000</td>\n",
       "      <td>-0.044686</td>\n",
       "      <td>0.337373</td>\n",
       "      <td>0.000000</td>\n",
       "      <td>0.000000</td>\n",
       "      <td>0.129087</td>\n",
       "      <td>0.104492</td>\n",
       "      <td>0.236462</td>\n",
       "    </tr>\n",
       "    <tr>\n",
       "      <th>2012-07-05</th>\n",
       "      <td>0.150440</td>\n",
       "      <td>0.096313</td>\n",
       "      <td>-0.103487</td>\n",
       "      <td>0.149420</td>\n",
       "      <td>0.239991</td>\n",
       "      <td>6.560000</td>\n",
       "      <td>-0.070000</td>\n",
       "      <td>-0.171848</td>\n",
       "      <td>-0.460387</td>\n",
       "      <td>0.306431</td>\n",
       "      <td>-0.151938</td>\n",
       "      <td>0.103086</td>\n",
       "      <td>0.019072</td>\n",
       "      <td>-0.142955</td>\n",
       "      <td>-0.073766</td>\n",
       "      <td>-0.142490</td>\n",
       "      <td>0.066211</td>\n",
       "    </tr>\n",
       "    <tr>\n",
       "      <th>2012-07-06</th>\n",
       "      <td>-0.141040</td>\n",
       "      <td>-0.491201</td>\n",
       "      <td>0.018819</td>\n",
       "      <td>-0.205449</td>\n",
       "      <td>-0.519989</td>\n",
       "      <td>-8.800000</td>\n",
       "      <td>-0.180000</td>\n",
       "      <td>-0.229128</td>\n",
       "      <td>0.206706</td>\n",
       "      <td>0.153214</td>\n",
       "      <td>0.080437</td>\n",
       "      <td>0.018744</td>\n",
       "      <td>-0.429213</td>\n",
       "      <td>-0.095304</td>\n",
       "      <td>0.119865</td>\n",
       "      <td>0.066495</td>\n",
       "      <td>-0.227003</td>\n",
       "    </tr>\n",
       "    <tr>\n",
       "      <th>2012-07-09</th>\n",
       "      <td>0.244465</td>\n",
       "      <td>-0.048160</td>\n",
       "      <td>-0.056445</td>\n",
       "      <td>-0.168094</td>\n",
       "      <td>0.429992</td>\n",
       "      <td>-0.480000</td>\n",
       "      <td>0.459999</td>\n",
       "      <td>-0.190939</td>\n",
       "      <td>-0.234892</td>\n",
       "      <td>-0.201098</td>\n",
       "      <td>-0.035751</td>\n",
       "      <td>-0.168687</td>\n",
       "      <td>0.000000</td>\n",
       "      <td>0.352630</td>\n",
       "      <td>-0.064548</td>\n",
       "      <td>0.018999</td>\n",
       "      <td>0.009457</td>\n",
       "    </tr>\n",
       "    <tr>\n",
       "      <th>...</th>\n",
       "      <td>...</td>\n",
       "      <td>...</td>\n",
       "      <td>...</td>\n",
       "      <td>...</td>\n",
       "      <td>...</td>\n",
       "      <td>...</td>\n",
       "      <td>...</td>\n",
       "      <td>...</td>\n",
       "      <td>...</td>\n",
       "      <td>...</td>\n",
       "      <td>...</td>\n",
       "      <td>...</td>\n",
       "      <td>...</td>\n",
       "      <td>...</td>\n",
       "      <td>...</td>\n",
       "      <td>...</td>\n",
       "      <td>...</td>\n",
       "    </tr>\n",
       "    <tr>\n",
       "      <th>2015-06-25</th>\n",
       "      <td>-0.379997</td>\n",
       "      <td>-0.669998</td>\n",
       "      <td>-1.270004</td>\n",
       "      <td>-1.398679</td>\n",
       "      <td>0.010002</td>\n",
       "      <td>0.279999</td>\n",
       "      <td>-0.069999</td>\n",
       "      <td>-0.497896</td>\n",
       "      <td>-0.750000</td>\n",
       "      <td>-0.200005</td>\n",
       "      <td>-0.309997</td>\n",
       "      <td>-0.059997</td>\n",
       "      <td>-0.229999</td>\n",
       "      <td>0.189994</td>\n",
       "      <td>-0.279999</td>\n",
       "      <td>-0.220002</td>\n",
       "      <td>-0.330002</td>\n",
       "    </tr>\n",
       "    <tr>\n",
       "      <th>2015-06-26</th>\n",
       "      <td>-0.040001</td>\n",
       "      <td>-0.700004</td>\n",
       "      <td>-0.389999</td>\n",
       "      <td>-0.079926</td>\n",
       "      <td>0.360001</td>\n",
       "      <td>-0.020001</td>\n",
       "      <td>0.189999</td>\n",
       "      <td>-0.587512</td>\n",
       "      <td>0.259995</td>\n",
       "      <td>-0.010002</td>\n",
       "      <td>0.340000</td>\n",
       "      <td>-0.290001</td>\n",
       "      <td>-0.280002</td>\n",
       "      <td>-0.220001</td>\n",
       "      <td>0.029998</td>\n",
       "      <td>-0.030001</td>\n",
       "      <td>-0.330002</td>\n",
       "    </tr>\n",
       "    <tr>\n",
       "      <th>2015-06-29</th>\n",
       "      <td>-0.590000</td>\n",
       "      <td>-1.320000</td>\n",
       "      <td>-2.580002</td>\n",
       "      <td>-1.918189</td>\n",
       "      <td>0.260002</td>\n",
       "      <td>1.829999</td>\n",
       "      <td>-0.080000</td>\n",
       "      <td>-2.280327</td>\n",
       "      <td>-0.500000</td>\n",
       "      <td>-1.089996</td>\n",
       "      <td>-0.160000</td>\n",
       "      <td>-0.769996</td>\n",
       "      <td>-0.700001</td>\n",
       "      <td>-1.180000</td>\n",
       "      <td>-0.500000</td>\n",
       "      <td>-0.330000</td>\n",
       "      <td>-0.450000</td>\n",
       "    </tr>\n",
       "    <tr>\n",
       "      <th>2015-06-30</th>\n",
       "      <td>-0.480000</td>\n",
       "      <td>-0.419998</td>\n",
       "      <td>-1.369996</td>\n",
       "      <td>-1.168887</td>\n",
       "      <td>0.130005</td>\n",
       "      <td>0.889999</td>\n",
       "      <td>0.139999</td>\n",
       "      <td>-0.338568</td>\n",
       "      <td>-0.169998</td>\n",
       "      <td>-0.430001</td>\n",
       "      <td>-0.310001</td>\n",
       "      <td>-0.270001</td>\n",
       "      <td>0.259999</td>\n",
       "      <td>-0.510002</td>\n",
       "      <td>-0.580002</td>\n",
       "      <td>-0.150002</td>\n",
       "      <td>-0.269996</td>\n",
       "    </tr>\n",
       "    <tr>\n",
       "      <th>2015-07-01</th>\n",
       "      <td>-0.269996</td>\n",
       "      <td>-0.279999</td>\n",
       "      <td>-0.159989</td>\n",
       "      <td>-0.169852</td>\n",
       "      <td>-0.140000</td>\n",
       "      <td>-0.309999</td>\n",
       "      <td>-0.440001</td>\n",
       "      <td>-0.537713</td>\n",
       "      <td>-1.110001</td>\n",
       "      <td>0.220001</td>\n",
       "      <td>0.200001</td>\n",
       "      <td>-0.219997</td>\n",
       "      <td>-1.029998</td>\n",
       "      <td>0.029998</td>\n",
       "      <td>0.290001</td>\n",
       "      <td>-0.010000</td>\n",
       "      <td>-0.090000</td>\n",
       "    </tr>\n",
       "  </tbody>\n",
       "</table>\n",
       "<p>754 rows × 17 columns</p>\n",
       "</div>"
      ],
      "text/plain": [
       "                 XLI       QQQ       SPY       DIA       GLD        VXX  \\\n",
       "2012-07-02 -0.376098  0.096313  0.028223 -0.242796  0.419998 -10.400000   \n",
       "2012-07-03  0.376099  0.481576  0.874936  0.728405  0.490006  -3.520000   \n",
       "2012-07-05  0.150440  0.096313 -0.103487  0.149420  0.239991   6.560000   \n",
       "2012-07-06 -0.141040 -0.491201  0.018819 -0.205449 -0.519989  -8.800000   \n",
       "2012-07-09  0.244465 -0.048160 -0.056445 -0.168094  0.429992  -0.480000   \n",
       "...              ...       ...       ...       ...       ...        ...   \n",
       "2015-06-25 -0.379997 -0.669998 -1.270004 -1.398679  0.010002   0.279999   \n",
       "2015-06-26 -0.040001 -0.700004 -0.389999 -0.079926  0.360001  -0.020001   \n",
       "2015-06-29 -0.590000 -1.320000 -2.580002 -1.918189  0.260002   1.829999   \n",
       "2015-06-30 -0.480000 -0.419998 -1.369996 -1.168887  0.130005   0.889999   \n",
       "2015-07-01 -0.269996 -0.279999 -0.159989 -0.169852 -0.140000  -0.309999   \n",
       "\n",
       "                 USO       IWM       XLE       XLY       XLU       XLB  \\\n",
       "2012-07-02  0.000000  0.534641  0.028186  0.095759  0.098311 -0.093713   \n",
       "2012-07-03  0.250000  0.926067  0.995942  0.000000 -0.044686  0.337373   \n",
       "2012-07-05 -0.070000 -0.171848 -0.460387  0.306431 -0.151938  0.103086   \n",
       "2012-07-06 -0.180000 -0.229128  0.206706  0.153214  0.080437  0.018744   \n",
       "2012-07-09  0.459999 -0.190939 -0.234892 -0.201098 -0.035751 -0.168687   \n",
       "...              ...       ...       ...       ...       ...       ...   \n",
       "2015-06-25 -0.069999 -0.497896 -0.750000 -0.200005 -0.309997 -0.059997   \n",
       "2015-06-26  0.189999 -0.587512  0.259995 -0.010002  0.340000 -0.290001   \n",
       "2015-06-29 -0.080000 -2.280327 -0.500000 -1.089996 -0.160000 -0.769996   \n",
       "2015-06-30  0.139999 -0.338568 -0.169998 -0.430001 -0.310001 -0.270001   \n",
       "2015-07-01 -0.440001 -0.537713 -1.110001  0.220001  0.200001 -0.219997   \n",
       "\n",
       "                 XTL       XLV       XLP       XLF       XLK  \n",
       "2012-07-02  0.019076 -0.009529  0.313499  0.018999  0.075668  \n",
       "2012-07-03  0.000000  0.000000  0.129087  0.104492  0.236462  \n",
       "2012-07-05  0.019072 -0.142955 -0.073766 -0.142490  0.066211  \n",
       "2012-07-06 -0.429213 -0.095304  0.119865  0.066495 -0.227003  \n",
       "2012-07-09  0.000000  0.352630 -0.064548  0.018999  0.009457  \n",
       "...              ...       ...       ...       ...       ...  \n",
       "2015-06-25 -0.229999  0.189994 -0.279999 -0.220002 -0.330002  \n",
       "2015-06-26 -0.280002 -0.220001  0.029998 -0.030001 -0.330002  \n",
       "2015-06-29 -0.700001 -1.180000 -0.500000 -0.330000 -0.450000  \n",
       "2015-06-30  0.259999 -0.510002 -0.580002 -0.150002 -0.269996  \n",
       "2015-07-01 -1.029998  0.029998  0.290001 -0.010000 -0.090000  \n",
       "\n",
       "[754 rows x 17 columns]"
      ]
     },
     "execution_count": 36,
     "metadata": {},
     "output_type": "execute_result"
    }
   ],
   "source": [
    "etfs=sp500_px.loc[sp500_px.index>'2012-07-01',\n",
    "                 sp500_sym[sp500_sym['sector']=='etf']['symbol']] ;etfs"
   ]
  },
  {
   "cell_type": "code",
   "execution_count": 41,
   "id": "104a19eb",
   "metadata": {},
   "outputs": [
    {
     "data": {
      "image/png": "[encoded data removed]",
      "text/plain": [
       "<Figure size 864x864 with 2 Axes>"
      ]
     },
     "metadata": {
      "needs_background": "light"
     },
     "output_type": "display_data"
    }
   ],
   "source": [
    "plt.figure(figsize=(12, 12))\n",
    "sns.heatmap(etfs.corr(), vmin=-1, vmax=1,\n",
    "           cmap=sns.diverging_palette(20, 220, as_cmap=True))\n",
    "plt.show()"
   ]
  },
  {
   "cell_type": "markdown",
   "id": "df0ddc75",
   "metadata": {},
   "source": [
    "#### 1.7.1 산점도\n",
    "- 두 변수 사이의 관계를 시각화하는 가장 기본적인 방법 <br>\n",
    "- x, y축은 각각의 변수들을 의미하고 그래프의 각 점은 하나의 레코드를 의미"
   ]
  },
  {
   "cell_type": "code",
   "execution_count": 42,
   "id": "62d35a96",
   "metadata": {},
   "outputs": [
    {
     "name": "stdout",
     "output_type": "stream",
     "text": [
      "                   T       CTL       FTR        VZ      LVLT\n",
      "2012-07-02  0.422496  0.140847  0.070879  0.554180 -0.519998\n",
      "2012-07-03 -0.177448  0.066280  0.070879 -0.025976 -0.049999\n",
      "2012-07-05 -0.160548 -0.132563  0.055128 -0.051956 -0.180000\n",
      "2012-07-06  0.342205  0.132563  0.007875  0.140106 -0.359999\n",
      "2012-07-09  0.136883  0.124279 -0.023626  0.253943  0.180000\n",
      "...              ...       ...       ...       ...       ...\n",
      "2015-06-25  0.049342 -1.600000 -0.040000 -0.187790 -0.330002\n",
      "2015-06-26 -0.256586  0.039999 -0.070000  0.029650 -0.739998\n",
      "2015-06-29 -0.098685 -0.559999 -0.060000 -0.504063 -1.360000\n",
      "2015-06-30 -0.503298 -0.420000 -0.070000 -0.523829  0.199997\n",
      "2015-07-01 -0.019737  0.080000 -0.050000  0.355811  0.139999\n",
      "\n",
      "[754 rows x 5 columns]\n"
     ]
    }
   ],
   "source": [
    "telecomSymbols = sp500_sym[sp500_sym['sector'] == 'telecommunications_services']['symbol']\n",
    "\n",
    "# Filter data for dates July 2012 through June 2015\n",
    "telecom = sp500_px.loc[sp500_px.index >= '2012-07-01', telecomSymbols]\n",
    "telecom.corr()\n",
    "print(telecom)"
   ]
  },
  {
   "cell_type": "code",
   "execution_count": 48,
   "id": "7999981f",
   "metadata": {},
   "outputs": [
    {
     "data": {
      "text/plain": [
       "<matplotlib.lines.Line2D at 0x1d6aff415b0>"
      ]
     },
     "execution_count": 48,
     "metadata": {},
     "output_type": "execute_result"
    },
    {
     "data": {
      "image/png": "[encoded data removed]",
      "text/plain": [
       "<Figure size 288x288 with 1 Axes>"
      ]
     },
     "metadata": {
      "needs_background": "light"
     },
     "output_type": "display_data"
    }
   ],
   "source": [
    "ax = telecom.plot.scatter(x='T', y='VZ', figsize=(4,4), marker='$/u25EF$')\n",
    "ax.set_xlabel('ATT (T)')\n",
    "ax.set_ylabel('Verizon (VZ)')\n",
    "ax.axhline(0, color='grey', lw=1)\n",
    "ax.axvline(0, color='grey', lw=1)"
   ]
  },
  {
   "cell_type": "markdown",
   "id": "e0e9e797",
   "metadata": {},
   "source": [
    "###### 주요개념\n",
    "- 상관계수는 두 변수 사이(예를 들어, 개인의 키와 몸무게)에 서로 어떤 관계가 있는지를 측정한다.\n",
    "- v1이 높아질 때 v2도 높아지고, v1이 낮아질 때 v2도 낮아지는 경우 양의 상관관계가 있다고 한다.\n",
    "- 반대의 경우 음의 상관관계가 있다고 한다.\n",
    "- 상관관계는 표준화된 측정 지표라고 할 수 있다. 항상 그 값이 -1(완전 음의 상관관계)에서 +1(완전 양의 상관관계) 사이에 존재한다.\n",
    "- 상관계수가 0이라는 것은 아무런 상관성이 없음을 의미한다. 하지만 데이터를 랜덤하게 재배치하면 우연히 상관계수가 양수나 음수가될 수도 있다는 점을 알고 있어야 한다.\n"
   ]
  },
  {
   "cell_type": "markdown",
   "id": "82cebf7f",
   "metadata": {},
   "source": [
    "### 1.8 두 개 이상의 변수 탐색하기\n",
    "- 일변량분석(univariate analysis): 한 번에 하나의 변수를 다룸 (ex. 평균, 분산) <br>\n",
    "- 상관분석은 두 변수(이변량분석, bivariate analysis)를 비교할 때 중요한 방법 <br> <br>\n",
    "\n",
    "- 이번 절에서는 이에 관한 추정법과 도표를 살펴보고 셋 이상의 변수(다변샹분석, multivariage analysis)를 다루는 법도 살펴본다.\n",
    "\n",
    "<br>\n",
    "\n",
    "###### <용어정리>\n",
    "- 분할표(contingency table): 두 가지 이상의 범주형 변수의 빈도수를 기록한 표 <br>\n",
    "- 육각형 구간(hexagonal binning): 두 변수를 육각형 모양의 구간으로 나눈 그림 <br>자그림과 비슷하지만 밀도추정을 함께 보여준다.\n",
    "- 등고 도표(contour plot): 지도상에 같은 높이의 지점을 등고선으로 나타내는 것처럼, 두 변수의 밀도를 등고선으로 표시한 도표 <br>\n",
    "- 바이올린 도표(violin plot): 상자그림과 비슷하지만 밀도추정을 함께 보여준다.\n"
   ]
  },
  {
   "cell_type": "markdown",
   "id": "e935e561",
   "metadata": {},
   "source": [
    "#### 1.8.1 육각형 구간과 등고선(수치형 변수 대 수치형 변수를 시각화)\n",
    "- 산점도는 데이터가 많아지면 알아보기 어려움 -> 다른 방법 필요"
   ]
  },
  {
   "cell_type": "code",
   "execution_count": 49,
   "id": "3d0a68d7",
   "metadata": {},
   "outputs": [
    {
     "data": {
      "text/html": [
       "<div>\n",
       "<style scoped>\n",
       "    .dataframe tbody tr th:only-of-type {\n",
       "        vertical-align: middle;\n",
       "    }\n",
       "\n",
       "    .dataframe tbody tr th {\n",
       "        vertical-align: top;\n",
       "    }\n",
       "\n",
       "    .dataframe thead th {\n",
       "        text-align: right;\n",
       "    }\n",
       "</style>\n",
       "<table border=\"1\" class=\"dataframe\">\n",
       "  <thead>\n",
       "    <tr style=\"text-align: right;\">\n",
       "      <th></th>\n",
       "      <th>TaxAssessedValue</th>\n",
       "      <th>SqFtTotLiving</th>\n",
       "      <th>ZipCode</th>\n",
       "    </tr>\n",
       "  </thead>\n",
       "  <tbody>\n",
       "    <tr>\n",
       "      <th>0</th>\n",
       "      <td>NaN</td>\n",
       "      <td>1730</td>\n",
       "      <td>98117.0</td>\n",
       "    </tr>\n",
       "    <tr>\n",
       "      <th>1</th>\n",
       "      <td>206000.0</td>\n",
       "      <td>1870</td>\n",
       "      <td>98002.0</td>\n",
       "    </tr>\n",
       "    <tr>\n",
       "      <th>2</th>\n",
       "      <td>303000.0</td>\n",
       "      <td>1530</td>\n",
       "      <td>98166.0</td>\n",
       "    </tr>\n",
       "    <tr>\n",
       "      <th>3</th>\n",
       "      <td>361000.0</td>\n",
       "      <td>2000</td>\n",
       "      <td>98108.0</td>\n",
       "    </tr>\n",
       "    <tr>\n",
       "      <th>4</th>\n",
       "      <td>459000.0</td>\n",
       "      <td>3150</td>\n",
       "      <td>98108.0</td>\n",
       "    </tr>\n",
       "    <tr>\n",
       "      <th>...</th>\n",
       "      <td>...</td>\n",
       "      <td>...</td>\n",
       "      <td>...</td>\n",
       "    </tr>\n",
       "    <tr>\n",
       "      <th>498244</th>\n",
       "      <td>375000.0</td>\n",
       "      <td>2230</td>\n",
       "      <td>98056.0</td>\n",
       "    </tr>\n",
       "    <tr>\n",
       "      <th>498245</th>\n",
       "      <td>316000.0</td>\n",
       "      <td>1710</td>\n",
       "      <td>98056.0</td>\n",
       "    </tr>\n",
       "    <tr>\n",
       "      <th>498246</th>\n",
       "      <td>340000.0</td>\n",
       "      <td>1930</td>\n",
       "      <td>98056.0</td>\n",
       "    </tr>\n",
       "    <tr>\n",
       "      <th>498247</th>\n",
       "      <td>132000.0</td>\n",
       "      <td>2930</td>\n",
       "      <td>98056.0</td>\n",
       "    </tr>\n",
       "    <tr>\n",
       "      <th>498248</th>\n",
       "      <td>286000.0</td>\n",
       "      <td>1310</td>\n",
       "      <td>98056.0</td>\n",
       "    </tr>\n",
       "  </tbody>\n",
       "</table>\n",
       "<p>498249 rows × 3 columns</p>\n",
       "</div>"
      ],
      "text/plain": [
       "        TaxAssessedValue  SqFtTotLiving  ZipCode\n",
       "0                    NaN           1730  98117.0\n",
       "1               206000.0           1870  98002.0\n",
       "2               303000.0           1530  98166.0\n",
       "3               361000.0           2000  98108.0\n",
       "4               459000.0           3150  98108.0\n",
       "...                  ...            ...      ...\n",
       "498244          375000.0           2230  98056.0\n",
       "498245          316000.0           1710  98056.0\n",
       "498246          340000.0           1930  98056.0\n",
       "498247          132000.0           2930  98056.0\n",
       "498248          286000.0           1310  98056.0\n",
       "\n",
       "[498249 rows x 3 columns]"
      ]
     },
     "execution_count": 49,
     "metadata": {},
     "output_type": "execute_result"
    }
   ],
   "source": [
    "kc_tax = pd.read_csv('C:/data/stats_for_ds/kc_tax.csv'); kc_tax"
   ]
  },
  {
   "cell_type": "code",
   "execution_count": 50,
   "id": "48e467be",
   "metadata": {},
   "outputs": [
    {
     "name": "stdout",
     "output_type": "stream",
     "text": [
      "(432693, 3)\n"
     ]
    }
   ],
   "source": [
    "kc_tax0 = kc_tax.loc[(kc_tax.TaxAssessedValue < 750000) & \n",
    "                     (kc_tax.SqFtTotLiving > 100) &\n",
    "                     (kc_tax.SqFtTotLiving < 3500), :]\n",
    "print(kc_tax0.shape)"
   ]
  },
  {
   "cell_type": "markdown",
   "id": "c7bdb874",
   "metadata": {},
   "source": [
    "##### 육각형 그림\n",
    "- 점으로 표시하는 대신 기록값을 육각형 모양의 구간들로 나누고 각 구간에 포함된 기록값의 갯수에 따라 색깔을 표시. "
   ]
  },
  {
   "cell_type": "code",
   "execution_count": 52,
   "id": "87c1630b",
   "metadata": {},
   "outputs": [
    {
     "data": {
      "text/plain": [
       "Text(0, 0.5, 'Tax Assessed Value')"
      ]
     },
     "execution_count": 52,
     "metadata": {},
     "output_type": "execute_result"
    },
    {
     "data": {
      "image/png": "[encoded data removed]",
      "text/plain": [
       "<Figure size 360x288 with 2 Axes>"
      ]
     },
     "metadata": {
      "needs_background": "light"
     },
     "output_type": "display_data"
    }
   ],
   "source": [
    "# [그림 1-8] 집의 크기와 과세 평가액을 나타낸 육각형 구간 도표\n",
    "ax = kc_tax0.plot.hexbin(x='SqFtTotLiving', y='TaxAssessedValue',\n",
    "                         gridsize=30, sharex=False, figsize=(5, 4))\n",
    "ax.set_xlabel('Finished Square Feet')\n",
    "ax.set_ylabel('Tax Assessed Value')\n",
    "\n",
    "'''\n",
    "양의 상관관계를 갖음을 파악할 수 있다.\n",
    "주요그룹부분(가장 어둡고 아래쪽에 있는) 위쪽에 또 하나의 그룹이 있다.\n",
    "'''"
   ]
  },
  {
   "cell_type": "markdown",
   "id": "092f0af5",
   "metadata": {},
   "source": [
    "##### 등고선\n",
    "- 그림 1-9는 두 수치형 변수 사이의 관계를 시각화하기 위해 산점도 위에 등고선을 사용\n",
    "- 이 등고선은 두 변수로 이루어진 지형에서의 등고선을 의미.\n",
    "- 등고선 위의 점들은 밀도가 같다.\n",
    "- '꼭대기'쪽으로 갈수록 밀도는 높아진다. "
   ]
  },
  {
   "cell_type": "code",
   "execution_count": 54,
   "id": "8cddd359",
   "metadata": {
    "collapsed": true
   },
   "outputs": [
    {
     "ename": "KeyboardInterrupt",
     "evalue": "",
     "output_type": "error",
     "traceback": [
      "\u001b[1;31m---------------------------------------------------------------------------\u001b[0m",
      "\u001b[1;31mKeyboardInterrupt\u001b[0m                         Traceback (most recent call last)",
      "\u001b[1;32m<ipython-input-54-959238a93391>\u001b[0m in \u001b[0;36m<module>\u001b[1;34m\u001b[0m\n\u001b[0;32m      1\u001b[0m \u001b[0mfig\u001b[0m\u001b[1;33m,\u001b[0m \u001b[0max\u001b[0m \u001b[1;33m=\u001b[0m \u001b[0mplt\u001b[0m\u001b[1;33m.\u001b[0m\u001b[0msubplots\u001b[0m\u001b[1;33m(\u001b[0m\u001b[0mfigsize\u001b[0m\u001b[1;33m=\u001b[0m\u001b[1;33m(\u001b[0m\u001b[1;36m4\u001b[0m\u001b[1;33m,\u001b[0m \u001b[1;36m4\u001b[0m\u001b[1;33m)\u001b[0m\u001b[1;33m)\u001b[0m\u001b[1;33m\u001b[0m\u001b[1;33m\u001b[0m\u001b[0m\n\u001b[1;32m----> 2\u001b[1;33m \u001b[0msns\u001b[0m\u001b[1;33m.\u001b[0m\u001b[0mkdeplot\u001b[0m\u001b[1;33m(\u001b[0m\u001b[0mdata\u001b[0m\u001b[1;33m=\u001b[0m\u001b[0mkc_tax0\u001b[0m\u001b[1;33m,\u001b[0m \u001b[0mx\u001b[0m\u001b[1;33m=\u001b[0m\u001b[1;34m'SqFtTotLiving'\u001b[0m\u001b[1;33m,\u001b[0m \u001b[0my\u001b[0m\u001b[1;33m=\u001b[0m\u001b[1;34m'TaxAssessedValue'\u001b[0m\u001b[1;33m,\u001b[0m \u001b[0max\u001b[0m\u001b[1;33m=\u001b[0m\u001b[0max\u001b[0m\u001b[1;33m)\u001b[0m\u001b[1;33m\u001b[0m\u001b[1;33m\u001b[0m\u001b[0m\n\u001b[0m\u001b[0;32m      3\u001b[0m \u001b[0max\u001b[0m\u001b[1;33m.\u001b[0m\u001b[0mset_xlabel\u001b[0m\u001b[1;33m(\u001b[0m\u001b[1;34m'Finished Square Feet'\u001b[0m\u001b[1;33m)\u001b[0m\u001b[1;33m\u001b[0m\u001b[1;33m\u001b[0m\u001b[0m\n\u001b[0;32m      4\u001b[0m \u001b[0max\u001b[0m\u001b[1;33m.\u001b[0m\u001b[0mset_ylabel\u001b[0m\u001b[1;33m(\u001b[0m\u001b[1;34m'Tax Assessed Value'\u001b[0m\u001b[1;33m)\u001b[0m\u001b[1;33m\u001b[0m\u001b[1;33m\u001b[0m\u001b[0m\n",
      "\u001b[1;32m~\\anaconda3\\lib\\site-packages\\seaborn\\_decorators.py\u001b[0m in \u001b[0;36minner_f\u001b[1;34m(*args, **kwargs)\u001b[0m\n\u001b[0;32m     44\u001b[0m             )\n\u001b[0;32m     45\u001b[0m         \u001b[0mkwargs\u001b[0m\u001b[1;33m.\u001b[0m\u001b[0mupdate\u001b[0m\u001b[1;33m(\u001b[0m\u001b[1;33m{\u001b[0m\u001b[0mk\u001b[0m\u001b[1;33m:\u001b[0m \u001b[0marg\u001b[0m \u001b[1;32mfor\u001b[0m \u001b[0mk\u001b[0m\u001b[1;33m,\u001b[0m \u001b[0marg\u001b[0m \u001b[1;32min\u001b[0m \u001b[0mzip\u001b[0m\u001b[1;33m(\u001b[0m\u001b[0msig\u001b[0m\u001b[1;33m.\u001b[0m\u001b[0mparameters\u001b[0m\u001b[1;33m,\u001b[0m \u001b[0margs\u001b[0m\u001b[1;33m)\u001b[0m\u001b[1;33m}\u001b[0m\u001b[1;33m)\u001b[0m\u001b[1;33m\u001b[0m\u001b[1;33m\u001b[0m\u001b[0m\n\u001b[1;32m---> 46\u001b[1;33m         \u001b[1;32mreturn\u001b[0m \u001b[0mf\u001b[0m\u001b[1;33m(\u001b[0m\u001b[1;33m**\u001b[0m\u001b[0mkwargs\u001b[0m\u001b[1;33m)\u001b[0m\u001b[1;33m\u001b[0m\u001b[1;33m\u001b[0m\u001b[0m\n\u001b[0m\u001b[0;32m     47\u001b[0m     \u001b[1;32mreturn\u001b[0m \u001b[0minner_f\u001b[0m\u001b[1;33m\u001b[0m\u001b[1;33m\u001b[0m\u001b[0m\n\u001b[0;32m     48\u001b[0m \u001b[1;33m\u001b[0m\u001b[0m\n",
      "\u001b[1;32m~\\anaconda3\\lib\\site-packages\\seaborn\\distributions.py\u001b[0m in \u001b[0;36mkdeplot\u001b[1;34m(x, y, shade, vertical, kernel, bw, gridsize, cut, clip, legend, cumulative, shade_lowest, cbar, cbar_ax, cbar_kws, ax, weights, hue, palette, hue_order, hue_norm, multiple, common_norm, common_grid, levels, thresh, bw_method, bw_adjust, log_scale, color, fill, data, data2, **kwargs)\u001b[0m\n\u001b[0;32m   1738\u001b[0m     \u001b[1;32melse\u001b[0m\u001b[1;33m:\u001b[0m\u001b[1;33m\u001b[0m\u001b[1;33m\u001b[0m\u001b[0m\n\u001b[0;32m   1739\u001b[0m \u001b[1;33m\u001b[0m\u001b[0m\n\u001b[1;32m-> 1740\u001b[1;33m         p.plot_bivariate_density(\n\u001b[0m\u001b[0;32m   1741\u001b[0m             \u001b[0mcommon_norm\u001b[0m\u001b[1;33m=\u001b[0m\u001b[0mcommon_norm\u001b[0m\u001b[1;33m,\u001b[0m\u001b[1;33m\u001b[0m\u001b[1;33m\u001b[0m\u001b[0m\n\u001b[0;32m   1742\u001b[0m             \u001b[0mfill\u001b[0m\u001b[1;33m=\u001b[0m\u001b[0mfill\u001b[0m\u001b[1;33m,\u001b[0m\u001b[1;33m\u001b[0m\u001b[1;33m\u001b[0m\u001b[0m\n",
      "\u001b[1;32m~\\anaconda3\\lib\\site-packages\\seaborn\\distributions.py\u001b[0m in \u001b[0;36mplot_bivariate_density\u001b[1;34m(self, common_norm, fill, levels, thresh, color, legend, cbar, cbar_ax, cbar_kws, estimate_kws, **contour_kws)\u001b[0m\n\u001b[0;32m   1081\u001b[0m             \u001b[1;31m# Estimate the density of observations at this level\u001b[0m\u001b[1;33m\u001b[0m\u001b[1;33m\u001b[0m\u001b[1;33m\u001b[0m\u001b[0m\n\u001b[0;32m   1082\u001b[0m             \u001b[0mobservations\u001b[0m \u001b[1;33m=\u001b[0m \u001b[0mobservations\u001b[0m\u001b[1;33m[\u001b[0m\u001b[1;34m\"x\"\u001b[0m\u001b[1;33m]\u001b[0m\u001b[1;33m,\u001b[0m \u001b[0mobservations\u001b[0m\u001b[1;33m[\u001b[0m\u001b[1;34m\"y\"\u001b[0m\u001b[1;33m]\u001b[0m\u001b[1;33m\u001b[0m\u001b[1;33m\u001b[0m\u001b[0m\n\u001b[1;32m-> 1083\u001b[1;33m             \u001b[0mdensity\u001b[0m\u001b[1;33m,\u001b[0m \u001b[0msupport\u001b[0m \u001b[1;33m=\u001b[0m \u001b[0mestimator\u001b[0m\u001b[1;33m(\u001b[0m\u001b[1;33m*\u001b[0m\u001b[0mobservations\u001b[0m\u001b[1;33m,\u001b[0m \u001b[0mweights\u001b[0m\u001b[1;33m=\u001b[0m\u001b[0mweights\u001b[0m\u001b[1;33m)\u001b[0m\u001b[1;33m\u001b[0m\u001b[1;33m\u001b[0m\u001b[0m\n\u001b[0m\u001b[0;32m   1084\u001b[0m \u001b[1;33m\u001b[0m\u001b[0m\n\u001b[0;32m   1085\u001b[0m             \u001b[1;31m# Transform the support grid back to the original scale\u001b[0m\u001b[1;33m\u001b[0m\u001b[1;33m\u001b[0m\u001b[1;33m\u001b[0m\u001b[0m\n",
      "\u001b[1;32m~\\anaconda3\\lib\\site-packages\\seaborn\\_statistics.py\u001b[0m in \u001b[0;36m__call__\u001b[1;34m(self, x1, x2, weights)\u001b[0m\n\u001b[0;32m    187\u001b[0m             \u001b[1;32mreturn\u001b[0m \u001b[0mself\u001b[0m\u001b[1;33m.\u001b[0m\u001b[0m_eval_univariate\u001b[0m\u001b[1;33m(\u001b[0m\u001b[0mx1\u001b[0m\u001b[1;33m,\u001b[0m \u001b[0mweights\u001b[0m\u001b[1;33m)\u001b[0m\u001b[1;33m\u001b[0m\u001b[1;33m\u001b[0m\u001b[0m\n\u001b[0;32m    188\u001b[0m         \u001b[1;32melse\u001b[0m\u001b[1;33m:\u001b[0m\u001b[1;33m\u001b[0m\u001b[1;33m\u001b[0m\u001b[0m\n\u001b[1;32m--> 189\u001b[1;33m             \u001b[1;32mreturn\u001b[0m \u001b[0mself\u001b[0m\u001b[1;33m.\u001b[0m\u001b[0m_eval_bivariate\u001b[0m\u001b[1;33m(\u001b[0m\u001b[0mx1\u001b[0m\u001b[1;33m,\u001b[0m \u001b[0mx2\u001b[0m\u001b[1;33m,\u001b[0m \u001b[0mweights\u001b[0m\u001b[1;33m)\u001b[0m\u001b[1;33m\u001b[0m\u001b[1;33m\u001b[0m\u001b[0m\n\u001b[0m\u001b[0;32m    190\u001b[0m \u001b[1;33m\u001b[0m\u001b[0m\n\u001b[0;32m    191\u001b[0m \u001b[1;33m\u001b[0m\u001b[0m\n",
      "\u001b[1;32m~\\anaconda3\\lib\\site-packages\\seaborn\\_statistics.py\u001b[0m in \u001b[0;36m_eval_bivariate\u001b[1;34m(self, x1, x2, weights)\u001b[0m\n\u001b[0;32m    178\u001b[0m \u001b[1;33m\u001b[0m\u001b[0m\n\u001b[0;32m    179\u001b[0m             \u001b[0mxx1\u001b[0m\u001b[1;33m,\u001b[0m \u001b[0mxx2\u001b[0m \u001b[1;33m=\u001b[0m \u001b[0mnp\u001b[0m\u001b[1;33m.\u001b[0m\u001b[0mmeshgrid\u001b[0m\u001b[1;33m(\u001b[0m\u001b[1;33m*\u001b[0m\u001b[0msupport\u001b[0m\u001b[1;33m)\u001b[0m\u001b[1;33m\u001b[0m\u001b[1;33m\u001b[0m\u001b[0m\n\u001b[1;32m--> 180\u001b[1;33m             \u001b[0mdensity\u001b[0m \u001b[1;33m=\u001b[0m \u001b[0mkde\u001b[0m\u001b[1;33m(\u001b[0m\u001b[1;33m[\u001b[0m\u001b[0mxx1\u001b[0m\u001b[1;33m.\u001b[0m\u001b[0mravel\u001b[0m\u001b[1;33m(\u001b[0m\u001b[1;33m)\u001b[0m\u001b[1;33m,\u001b[0m \u001b[0mxx2\u001b[0m\u001b[1;33m.\u001b[0m\u001b[0mravel\u001b[0m\u001b[1;33m(\u001b[0m\u001b[1;33m)\u001b[0m\u001b[1;33m]\u001b[0m\u001b[1;33m)\u001b[0m\u001b[1;33m.\u001b[0m\u001b[0mreshape\u001b[0m\u001b[1;33m(\u001b[0m\u001b[0mxx1\u001b[0m\u001b[1;33m.\u001b[0m\u001b[0mshape\u001b[0m\u001b[1;33m)\u001b[0m\u001b[1;33m\u001b[0m\u001b[1;33m\u001b[0m\u001b[0m\n\u001b[0m\u001b[0;32m    181\u001b[0m \u001b[1;33m\u001b[0m\u001b[0m\n\u001b[0;32m    182\u001b[0m         \u001b[1;32mreturn\u001b[0m \u001b[0mdensity\u001b[0m\u001b[1;33m,\u001b[0m \u001b[0msupport\u001b[0m\u001b[1;33m\u001b[0m\u001b[1;33m\u001b[0m\u001b[0m\n",
      "\u001b[1;32m~\\anaconda3\\lib\\site-packages\\scipy\\stats\\kde.py\u001b[0m in \u001b[0;36mevaluate\u001b[1;34m(self, points)\u001b[0m\n\u001b[0;32m    250\u001b[0m             raise TypeError('%s has unexpected item size %d' %\n\u001b[0;32m    251\u001b[0m                             (output_dtype, itemsize))\n\u001b[1;32m--> 252\u001b[1;33m         result = gaussian_kernel_estimate[spec](self.dataset.T, self.weights[:, None],\n\u001b[0m\u001b[0;32m    253\u001b[0m                                                 points.T, self.inv_cov, output_dtype)\n\u001b[0;32m    254\u001b[0m         \u001b[1;32mreturn\u001b[0m \u001b[0mresult\u001b[0m\u001b[1;33m[\u001b[0m\u001b[1;33m:\u001b[0m\u001b[1;33m,\u001b[0m \u001b[1;36m0\u001b[0m\u001b[1;33m]\u001b[0m\u001b[1;33m\u001b[0m\u001b[1;33m\u001b[0m\u001b[0m\n",
      "\u001b[1;32m_stats.pyx\u001b[0m in \u001b[0;36mscipy.stats._stats.gaussian_kernel_estimate\u001b[1;34m()\u001b[0m\n",
      "\u001b[1;32m~\\anaconda3\\lib\\site-packages\\numpy\\core\\_asarray.py\u001b[0m in \u001b[0;36masarray\u001b[1;34m(a, dtype, order, like)\u001b[0m\n\u001b[0;32m    100\u001b[0m         \u001b[1;32mreturn\u001b[0m \u001b[0m_asarray_with_like\u001b[0m\u001b[1;33m(\u001b[0m\u001b[0ma\u001b[0m\u001b[1;33m,\u001b[0m \u001b[0mdtype\u001b[0m\u001b[1;33m=\u001b[0m\u001b[0mdtype\u001b[0m\u001b[1;33m,\u001b[0m \u001b[0morder\u001b[0m\u001b[1;33m=\u001b[0m\u001b[0morder\u001b[0m\u001b[1;33m,\u001b[0m \u001b[0mlike\u001b[0m\u001b[1;33m=\u001b[0m\u001b[0mlike\u001b[0m\u001b[1;33m)\u001b[0m\u001b[1;33m\u001b[0m\u001b[1;33m\u001b[0m\u001b[0m\n\u001b[0;32m    101\u001b[0m \u001b[1;33m\u001b[0m\u001b[0m\n\u001b[1;32m--> 102\u001b[1;33m     \u001b[1;32mreturn\u001b[0m \u001b[0marray\u001b[0m\u001b[1;33m(\u001b[0m\u001b[0ma\u001b[0m\u001b[1;33m,\u001b[0m \u001b[0mdtype\u001b[0m\u001b[1;33m,\u001b[0m \u001b[0mcopy\u001b[0m\u001b[1;33m=\u001b[0m\u001b[1;32mFalse\u001b[0m\u001b[1;33m,\u001b[0m \u001b[0morder\u001b[0m\u001b[1;33m=\u001b[0m\u001b[0morder\u001b[0m\u001b[1;33m)\u001b[0m\u001b[1;33m\u001b[0m\u001b[1;33m\u001b[0m\u001b[0m\n\u001b[0m\u001b[0;32m    103\u001b[0m \u001b[1;33m\u001b[0m\u001b[0m\n\u001b[0;32m    104\u001b[0m \u001b[1;33m\u001b[0m\u001b[0m\n",
      "\u001b[1;31mKeyboardInterrupt\u001b[0m: "
     ]
    },
    {
     "data": {
      "image/png": "[encoded data removed]",
      "text/plain": [
       "<Figure size 288x288 with 1 Axes>"
      ]
     },
     "metadata": {
      "needs_background": "light"
     },
     "output_type": "display_data"
    }
   ],
   "source": [
    "# [그림 1-9] 집의 크기와 과세 평가액을 나타낸 등고선 도표\n",
    "fig, ax = plt.subplots(figsize=(4, 4))\n",
    "sns.kdeplot(data=kc_tax0, x='SqFtTotLiving', y='TaxAssessedValue', ax=ax)\n",
    "ax.set_xlabel('Finished Square Feet')\n",
    "ax.set_ylabel('Tax Assessed Value')\n",
    "\n",
    "'''\n",
    "육각형그림과 같이 주요 봉우리 위에 두번째 봉우리가 보인다.\n",
    "'''"
   ]
  },
  {
   "cell_type": "markdown",
   "id": "672a2b8d",
   "metadata": {},
   "source": [
    "- 두 수치형 변수의 관계를 나타내는 또 다른 도표로 히트맵(Heatmap)이 있다. \n",
    "- 히트맵, 육각구간, 등고도표 모두 이차원상의 밀도를 시각화하는데 사용된다."
   ]
  },
  {
   "cell_type": "markdown",
   "id": "a5e43f35",
   "metadata": {},
   "source": [
    "#### 1.8.2 범주형 변수 대 범주형 변수\n",
    "- 분할표: 범주별 빈도수를 기록한 표"
   ]
  },
  {
   "cell_type": "code",
   "execution_count": 55,
   "id": "d6aca402",
   "metadata": {},
   "outputs": [
    {
     "data": {
      "text/html": [
       "<div>\n",
       "<style scoped>\n",
       "    .dataframe tbody tr th:only-of-type {\n",
       "        vertical-align: middle;\n",
       "    }\n",
       "\n",
       "    .dataframe tbody tr th {\n",
       "        vertical-align: top;\n",
       "    }\n",
       "\n",
       "    .dataframe thead th {\n",
       "        text-align: right;\n",
       "    }\n",
       "</style>\n",
       "<table border=\"1\" class=\"dataframe\">\n",
       "  <thead>\n",
       "    <tr style=\"text-align: right;\">\n",
       "      <th></th>\n",
       "      <th>status</th>\n",
       "      <th>grade</th>\n",
       "    </tr>\n",
       "  </thead>\n",
       "  <tbody>\n",
       "    <tr>\n",
       "      <th>0</th>\n",
       "      <td>Fully Paid</td>\n",
       "      <td>B</td>\n",
       "    </tr>\n",
       "    <tr>\n",
       "      <th>1</th>\n",
       "      <td>Charged Off</td>\n",
       "      <td>C</td>\n",
       "    </tr>\n",
       "    <tr>\n",
       "      <th>2</th>\n",
       "      <td>Fully Paid</td>\n",
       "      <td>C</td>\n",
       "    </tr>\n",
       "    <tr>\n",
       "      <th>3</th>\n",
       "      <td>Fully Paid</td>\n",
       "      <td>C</td>\n",
       "    </tr>\n",
       "    <tr>\n",
       "      <th>4</th>\n",
       "      <td>Current</td>\n",
       "      <td>B</td>\n",
       "    </tr>\n",
       "    <tr>\n",
       "      <th>...</th>\n",
       "      <td>...</td>\n",
       "      <td>...</td>\n",
       "    </tr>\n",
       "    <tr>\n",
       "      <th>450956</th>\n",
       "      <td>Current</td>\n",
       "      <td>D</td>\n",
       "    </tr>\n",
       "    <tr>\n",
       "      <th>450957</th>\n",
       "      <td>Current</td>\n",
       "      <td>D</td>\n",
       "    </tr>\n",
       "    <tr>\n",
       "      <th>450958</th>\n",
       "      <td>Current</td>\n",
       "      <td>D</td>\n",
       "    </tr>\n",
       "    <tr>\n",
       "      <th>450959</th>\n",
       "      <td>Current</td>\n",
       "      <td>D</td>\n",
       "    </tr>\n",
       "    <tr>\n",
       "      <th>450960</th>\n",
       "      <td>Fully Paid</td>\n",
       "      <td>A</td>\n",
       "    </tr>\n",
       "  </tbody>\n",
       "</table>\n",
       "<p>450961 rows × 2 columns</p>\n",
       "</div>"
      ],
      "text/plain": [
       "             status grade\n",
       "0        Fully Paid     B\n",
       "1       Charged Off     C\n",
       "2        Fully Paid     C\n",
       "3        Fully Paid     C\n",
       "4           Current     B\n",
       "...             ...   ...\n",
       "450956      Current     D\n",
       "450957      Current     D\n",
       "450958      Current     D\n",
       "450959      Current     D\n",
       "450960   Fully Paid     A\n",
       "\n",
       "[450961 rows x 2 columns]"
      ]
     },
     "execution_count": 55,
     "metadata": {},
     "output_type": "execute_result"
    }
   ],
   "source": [
    "lc_loans = pd.read_csv('C:/data/stats_for_ds/lc_loans.csv'); lc_loans "
   ]
  },
  {
   "cell_type": "code",
   "execution_count": 56,
   "id": "ae02898c",
   "metadata": {},
   "outputs": [
    {
     "name": "stdout",
     "output_type": "stream",
     "text": [
      "status  Charged Off  Current  Fully Paid  Late     All\n",
      "grade                                                 \n",
      "A              1562    50051       20408   469   72490\n",
      "B              5302    93852       31160  2056  132370\n",
      "C              6023    88928       23147  2777  120875\n",
      "D              5007    53281       13681  2308   74277\n",
      "E              2842    24639        5949  1374   34804\n",
      "F              1526     8444        2328   606   12904\n",
      "G               409     1990         643   199    3241\n",
      "All           22671   321185       97316  9789  450961\n"
     ]
    }
   ],
   "source": [
    "# 대출 등급과 상황에 따른 분할표\n",
    "crosstab = lc_loans.pivot_table(index='grade', columns='status', \n",
    "                                aggfunc=lambda x: len(x), margins=True)\n",
    "print(crosstab)\n"
   ]
  },
  {
   "cell_type": "code",
   "execution_count": 57,
   "id": "6aa8ac8c",
   "metadata": {},
   "outputs": [
    {
     "name": "stdout",
     "output_type": "stream",
     "text": [
      "status  Charged Off   Current  Fully Paid      Late       All\n",
      "grade                                                        \n",
      "A          0.021548  0.690454    0.281528  0.006470  0.160746\n",
      "B          0.040054  0.709013    0.235401  0.015532  0.293529\n",
      "C          0.049828  0.735702    0.191495  0.022974  0.268039\n",
      "D          0.067410  0.717328    0.184189  0.031073  0.164708\n",
      "E          0.081657  0.707936    0.170929  0.039478  0.077177\n",
      "F          0.118258  0.654371    0.180409  0.046962  0.028614\n",
      "G          0.126196  0.614008    0.198396  0.061401  0.007187\n"
     ]
    }
   ],
   "source": [
    "# Table 1-8(2)\n",
    "df = crosstab.copy().loc['A':'G',:]\n",
    "df.loc[:,'Charged Off':'Late'] = df.loc[:,'Charged Off':'Late'].div(df['All'], axis=0)\n",
    "df['All'] = df['All'] / sum(df['All'])\n",
    "perc_crosstab = df\n",
    "print(perc_crosstab)"
   ]
  },
  {
   "cell_type": "markdown",
   "id": "a868ae15",
   "metadata": {},
   "source": [
    "#### 1.8.3 범주형 변수 대 수치형 변수"
   ]
  },
  {
   "cell_type": "code",
   "execution_count": 58,
   "id": "9f3926d2",
   "metadata": {},
   "outputs": [
    {
     "data": {
      "text/html": [
       "<div>\n",
       "<style scoped>\n",
       "    .dataframe tbody tr th:only-of-type {\n",
       "        vertical-align: middle;\n",
       "    }\n",
       "\n",
       "    .dataframe tbody tr th {\n",
       "        vertical-align: top;\n",
       "    }\n",
       "\n",
       "    .dataframe thead th {\n",
       "        text-align: right;\n",
       "    }\n",
       "</style>\n",
       "<table border=\"1\" class=\"dataframe\">\n",
       "  <thead>\n",
       "    <tr style=\"text-align: right;\">\n",
       "      <th></th>\n",
       "      <th>pct_carrier_delay</th>\n",
       "      <th>pct_atc_delay</th>\n",
       "      <th>pct_weather_delay</th>\n",
       "      <th>airline</th>\n",
       "    </tr>\n",
       "  </thead>\n",
       "  <tbody>\n",
       "    <tr>\n",
       "      <th>0</th>\n",
       "      <td>8.153226</td>\n",
       "      <td>1.971774</td>\n",
       "      <td>0.762097</td>\n",
       "      <td>American</td>\n",
       "    </tr>\n",
       "    <tr>\n",
       "      <th>1</th>\n",
       "      <td>5.959924</td>\n",
       "      <td>3.706107</td>\n",
       "      <td>1.585878</td>\n",
       "      <td>American</td>\n",
       "    </tr>\n",
       "    <tr>\n",
       "      <th>2</th>\n",
       "      <td>7.157270</td>\n",
       "      <td>2.706231</td>\n",
       "      <td>2.026706</td>\n",
       "      <td>American</td>\n",
       "    </tr>\n",
       "    <tr>\n",
       "      <th>3</th>\n",
       "      <td>12.100000</td>\n",
       "      <td>11.033333</td>\n",
       "      <td>0.000000</td>\n",
       "      <td>American</td>\n",
       "    </tr>\n",
       "    <tr>\n",
       "      <th>4</th>\n",
       "      <td>7.333333</td>\n",
       "      <td>3.365591</td>\n",
       "      <td>1.774194</td>\n",
       "      <td>American</td>\n",
       "    </tr>\n",
       "    <tr>\n",
       "      <th>...</th>\n",
       "      <td>...</td>\n",
       "      <td>...</td>\n",
       "      <td>...</td>\n",
       "      <td>...</td>\n",
       "    </tr>\n",
       "    <tr>\n",
       "      <th>33463</th>\n",
       "      <td>6.186422</td>\n",
       "      <td>8.798491</td>\n",
       "      <td>1.651940</td>\n",
       "      <td>Southwest</td>\n",
       "    </tr>\n",
       "    <tr>\n",
       "      <th>33464</th>\n",
       "      <td>9.522167</td>\n",
       "      <td>3.591133</td>\n",
       "      <td>0.261084</td>\n",
       "      <td>Southwest</td>\n",
       "    </tr>\n",
       "    <tr>\n",
       "      <th>33465</th>\n",
       "      <td>9.164179</td>\n",
       "      <td>2.664179</td>\n",
       "      <td>0.343284</td>\n",
       "      <td>Southwest</td>\n",
       "    </tr>\n",
       "    <tr>\n",
       "      <th>33466</th>\n",
       "      <td>5.152293</td>\n",
       "      <td>1.964520</td>\n",
       "      <td>0.122817</td>\n",
       "      <td>Southwest</td>\n",
       "    </tr>\n",
       "    <tr>\n",
       "      <th>33467</th>\n",
       "      <td>3.964393</td>\n",
       "      <td>1.700479</td>\n",
       "      <td>0.019449</td>\n",
       "      <td>Southwest</td>\n",
       "    </tr>\n",
       "  </tbody>\n",
       "</table>\n",
       "<p>33468 rows × 4 columns</p>\n",
       "</div>"
      ],
      "text/plain": [
       "       pct_carrier_delay  pct_atc_delay  pct_weather_delay    airline\n",
       "0               8.153226       1.971774           0.762097   American\n",
       "1               5.959924       3.706107           1.585878   American\n",
       "2               7.157270       2.706231           2.026706   American\n",
       "3              12.100000      11.033333           0.000000   American\n",
       "4               7.333333       3.365591           1.774194   American\n",
       "...                  ...            ...                ...        ...\n",
       "33463           6.186422       8.798491           1.651940  Southwest\n",
       "33464           9.522167       3.591133           0.261084  Southwest\n",
       "33465           9.164179       2.664179           0.343284  Southwest\n",
       "33466           5.152293       1.964520           0.122817  Southwest\n",
       "33467           3.964393       1.700479           0.019449  Southwest\n",
       "\n",
       "[33468 rows x 4 columns]"
      ]
     },
     "execution_count": 58,
     "metadata": {},
     "output_type": "execute_result"
    }
   ],
   "source": [
    "airline_stats = pd.read_csv('C:/data/stats_for_ds/airline_stats.csv'); airline_stats"
   ]
  },
  {
   "cell_type": "code",
   "execution_count": 60,
   "id": "f878797e",
   "metadata": {},
   "outputs": [
    {
     "data": {
      "text/plain": [
       "Text(0.5, 0.98, '')"
      ]
     },
     "execution_count": 60,
     "metadata": {},
     "output_type": "execute_result"
    },
    {
     "data": {
      "image/png": "[encoded data removed]",
      "text/plain": [
       "<Figure size 360x360 with 1 Axes>"
      ]
     },
     "metadata": {
      "needs_background": "light"
     },
     "output_type": "display_data"
    }
   ],
   "source": [
    "# 항공기 원인에 따른 지연 비율\n",
    "ax = airline_stats.boxplot(by='airline', column='pct_carrier_delay', #by 인수를 이용하여 그룹별로 분할하고 그룹별 상자그림 생성\n",
    "                           figsize=(5, 5))\n",
    "ax.set_xlabel('')\n",
    "ax.set_ylabel('Daily % of Delayed Flights')\n",
    "plt.suptitle('')\n"
   ]
  },
  {
   "cell_type": "markdown",
   "id": "b0abc4ce",
   "metadata": {},
   "source": [
    "- 바이올린 도표는 상자그림을 보완한 형태로, y축을 따라 밀도추정 결과를 동시에 시각화\n",
    "- 바이올린 도표의 장점은 상자그림에서는 보이지 않는 데이터의 분포를 볼 수 있다는 점\n",
    "- 한편, 상자글미은 데이터의 특잇값들을 좀 더 명확히 보여줌"
   ]
  },
  {
   "cell_type": "code",
   "execution_count": 62,
   "id": "5758b8a7",
   "metadata": {},
   "outputs": [
    {
     "data": {
      "text/plain": [
       "Text(0, 0.5, 'Daily % of Delayed Flights')"
      ]
     },
     "execution_count": 62,
     "metadata": {},
     "output_type": "execute_result"
    },
    {
     "data": {
      "image/png": "[encoded data removed]",
      "text/plain": [
       "<Figure size 360x360 with 1 Axes>"
      ]
     },
     "metadata": {
      "needs_background": "light"
     },
     "output_type": "display_data"
    }
   ],
   "source": [
    "# 항공기 원인에 따른 운항 지연 비율을 나타내는 바이올린 도표\n",
    "fig, ax = plt.subplots(figsize=(5, 5))\n",
    "sns.violinplot(data=airline_stats, x='airline', y='pct_carrier_delay',\n",
    "               ax=ax, inner='quartile', color='white')\n",
    "ax.set_xlabel('')\n",
    "ax.set_ylabel('Daily % of Delayed Flights')"
   ]
  },
  {
   "cell_type": "markdown",
   "id": "cf59850c",
   "metadata": {},
   "source": [
    "#### 1.8.4 다변수 시각화하기\n",
    "\n",
    "- 조건화(conditioning) 개념을 통해 두 변수 비교용 도표(산점도, 육각형 구간, 상자그림)를 더 여러 변수를 비교하는 용도로 확장하여 활용 가능"
   ]
  },
  {
   "cell_type": "code",
   "execution_count": 64,
   "id": "9aeaa72f",
   "metadata": {},
   "outputs": [
    {
     "data": {
      "text/plain": [
       "'\\n1. 조건 변수를 지정하려면 col 및 row 인수를 사용한다. 단일 조건 변수의 경우 col_wrap과 함께 col을 사용하여 패싯 그래프를 여러 행으로 래핑한다.\\n2. map 메서드는 다른 우편번호에 대한 원래 데이터 집합의 서브셋에 대해 hexbin 함수를 호출한다. extent는 x축과 y축의 한계를 정의한다.\\n'"
      ]
     },
     "execution_count": 64,
     "metadata": {},
     "output_type": "execute_result"
    },
    {
     "data": {
      "image/png": "[encoded data removed]",
      "text/plain": [
       "<Figure size 432x432 with 4 Axes>"
      ]
     },
     "metadata": {
      "needs_background": "light"
     },
     "output_type": "display_data"
    }
   ],
   "source": [
    "# 우편번호에 따른 과세 평가액 대 실 제곱피트\n",
    "zip_codes = [98188, 98105, 98108, 98126]\n",
    "kc_tax_zip = kc_tax0.loc[kc_tax0.ZipCode.isin(zip_codes),:]\n",
    "kc_tax_zip\n",
    "\n",
    "def hexbin(x, y, color, **kwargs):\n",
    "    cmap = sns.light_palette(color, as_cmap=True)\n",
    "    plt.hexbin(x, y, gridsize=25, cmap=cmap, **kwargs)\n",
    "\n",
    "g = sns.FacetGrid(kc_tax_zip, col='ZipCode', col_wrap=2)\n",
    "g.map(hexbin, 'SqFtTotLiving', 'TaxAssessedValue', \n",
    "      extent=[0, 3500, 0, 700000])\n",
    "g.set_axis_labels('Finished Square Feet', 'Tax Assessed Value')\n",
    "g.set_titles('Zip code {col_name:.0f}')\n",
    "\n",
    "'''\n",
    "1. 조건 변수를 지정하려면 col 및 row 인수를 사용한다. 단일 조건 변수의 경우 col_wrap과 함께 col을 사용하여 패싯 그래프를 여러 행으로 래핑한다.\n",
    "2. map 메서드는 다른 우편번호에 대한 원래 데이터 집합의 서브셋에 대해 hexbin 함수를 호출한다. extent는 x축과 y축의 한계를 정의한다.\n",
    "'''"
   ]
  }
 ],
 "metadata": {
  "kernelspec": {
   "display_name": "Python 3",
   "language": "python",
   "name": "python3"
  },
  "language_info": {
   "codemirror_mode": {
    "name": "ipython",
    "version": 3
   },
   "file_extension": ".py",
   "mimetype": "text/x-python",
   "name": "python",
   "nbconvert_exporter": "python",
   "pygments_lexer": "ipython3",
   "version": "3.8.8"
  }
 },
 "nbformat": 4,
 "nbformat_minor": 5
}
