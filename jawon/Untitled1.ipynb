{
 "cells": [
  {
   "cell_type": "markdown",
   "id": "ea9ce24d",
   "metadata": {},
   "source": [
    "### 1.5 데이터 분포 탐색하기\n",
    "\n",
    "\n",
    "\n",
    "<용어정리>\n",
    " - 상자그림(boxplot): 투키가 데이터의 분포를 시각화하기 위한 간단한 방법으로 소개한 그림. (유의어: 상자수염도)\n",
    " - 도수분포표(frequency table): 어떤 구간(interval, bin)에 해당하는 수치 데이터 값들의 빈도를 나타내는 기록\n",
    " - 히스토그램(histogram): x축은 구간들을, y축은 빈도수를 나타내는 도수 테이블의 그림. 시각적으로 비슷하지만 막대 그래프를 히스토그램과 혼동해서는 안 된다. 차이점에 대한 설명은 1.6절 참조\n",
    " - 밀도 그림(density plot): 히스토그램을 부드러운 곡선으로 나타낸 그림. 커널밀도추정(kernel density estimation)을 주로 사용한다."
   ]
  },
  {
   "cell_type": "markdown",
   "id": "5b3ccd3b",
   "metadata": {},
   "source": [
    "#### 1.5.1 백분위수와 상자그림\n",
    "\n",
    " - 백분위수는 데이터의 흩어진 정도 뿐 아니라 분포를 알아보는데에도 유용하다\n",
    " - 주로 사분위수(25, 50, 75번째 백분위수)나 십분위수(decile)(10, 20, ... 90번째 백분위수)를 사용\n",
    " - 특히 백분위수는 꼬리(tail)부분(외측 범위)을 묘사하는데 제격"
   ]
  },
  {
   "cell_type": "code",
   "execution_count": 2,
   "id": "99d9f198",
   "metadata": {},
   "outputs": [],
   "source": [
    "import numpy as np\n",
    "import pandas as pd"
   ]
  },
  {
   "cell_type": "code",
   "execution_count": 4,
   "id": "98dad04d",
   "metadata": {},
   "outputs": [],
   "source": [
    "import wquantiles"
   ]
  },
  {
   "cell_type": "code",
   "execution_count": null,
   "id": "7569e286",
   "metadata": {},
   "outputs": [],
   "source": []
  }
 ],
 "metadata": {
  "kernelspec": {
   "display_name": "Python 3",
   "language": "python",
   "name": "python3"
  },
  "language_info": {
   "codemirror_mode": {
    "name": "ipython",
    "version": 3
   },
   "file_extension": ".py",
   "mimetype": "text/x-python",
   "name": "python",
   "nbconvert_exporter": "python",
   "pygments_lexer": "ipython3",
   "version": "3.8.8"
  }
 },
 "nbformat": 4,
 "nbformat_minor": 5
}
